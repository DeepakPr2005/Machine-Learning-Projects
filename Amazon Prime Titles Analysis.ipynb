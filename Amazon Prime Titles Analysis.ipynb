{
 "cells": [
  {
   "cell_type": "code",
   "execution_count": 2,
   "id": "dd325759",
   "metadata": {},
   "outputs": [],
   "source": [
    "import pandas as pd\n",
    "import numpy as np\n",
    "import seaborn as sns\n",
    "import matplotlib.pyplot as plt"
   ]
  },
  {
   "cell_type": "code",
   "execution_count": null,
   "id": "e4caf870",
   "metadata": {},
   "outputs": [],
   "source": []
  },
  {
   "cell_type": "code",
   "execution_count": 3,
   "id": "d6e1e146",
   "metadata": {},
   "outputs": [],
   "source": [
    "df  = pd.read_csv(\"amazon_prime_titles.csv\")"
   ]
  },
  {
   "cell_type": "code",
   "execution_count": 4,
   "id": "c2075721",
   "metadata": {},
   "outputs": [
    {
     "data": {
      "text/html": [
       "<div>\n",
       "<style scoped>\n",
       "    .dataframe tbody tr th:only-of-type {\n",
       "        vertical-align: middle;\n",
       "    }\n",
       "\n",
       "    .dataframe tbody tr th {\n",
       "        vertical-align: top;\n",
       "    }\n",
       "\n",
       "    .dataframe thead th {\n",
       "        text-align: right;\n",
       "    }\n",
       "</style>\n",
       "<table border=\"1\" class=\"dataframe\">\n",
       "  <thead>\n",
       "    <tr style=\"text-align: right;\">\n",
       "      <th></th>\n",
       "      <th>show_id</th>\n",
       "      <th>type</th>\n",
       "      <th>title</th>\n",
       "      <th>director</th>\n",
       "      <th>cast</th>\n",
       "      <th>country</th>\n",
       "      <th>date_added</th>\n",
       "      <th>release_year</th>\n",
       "      <th>rating</th>\n",
       "      <th>duration</th>\n",
       "      <th>listed_in</th>\n",
       "      <th>description</th>\n",
       "    </tr>\n",
       "  </thead>\n",
       "  <tbody>\n",
       "    <tr>\n",
       "      <th>0</th>\n",
       "      <td>s1</td>\n",
       "      <td>Movie</td>\n",
       "      <td>The Grand Seduction</td>\n",
       "      <td>Don McKellar</td>\n",
       "      <td>Brendan Gleeson, Taylor Kitsch, Gordon Pinsent</td>\n",
       "      <td>Canada</td>\n",
       "      <td>March 30, 2021</td>\n",
       "      <td>2014</td>\n",
       "      <td>NaN</td>\n",
       "      <td>113 min</td>\n",
       "      <td>Comedy, Drama</td>\n",
       "      <td>A small fishing village must procure a local d...</td>\n",
       "    </tr>\n",
       "    <tr>\n",
       "      <th>1</th>\n",
       "      <td>s2</td>\n",
       "      <td>Movie</td>\n",
       "      <td>Take Care Good Night</td>\n",
       "      <td>Girish Joshi</td>\n",
       "      <td>Mahesh Manjrekar, Abhay Mahajan, Sachin Khedekar</td>\n",
       "      <td>India</td>\n",
       "      <td>March 30, 2021</td>\n",
       "      <td>2018</td>\n",
       "      <td>13+</td>\n",
       "      <td>110 min</td>\n",
       "      <td>Drama, International</td>\n",
       "      <td>A Metro Family decides to fight a Cyber Crimin...</td>\n",
       "    </tr>\n",
       "    <tr>\n",
       "      <th>2</th>\n",
       "      <td>s3</td>\n",
       "      <td>Movie</td>\n",
       "      <td>Secrets of Deception</td>\n",
       "      <td>Josh Webber</td>\n",
       "      <td>Tom Sizemore, Lorenzo Lamas, Robert LaSardo, R...</td>\n",
       "      <td>United States</td>\n",
       "      <td>March 30, 2021</td>\n",
       "      <td>2017</td>\n",
       "      <td>NaN</td>\n",
       "      <td>74 min</td>\n",
       "      <td>Action, Drama, Suspense</td>\n",
       "      <td>After a man discovers his wife is cheating on ...</td>\n",
       "    </tr>\n",
       "    <tr>\n",
       "      <th>3</th>\n",
       "      <td>s4</td>\n",
       "      <td>Movie</td>\n",
       "      <td>Pink: Staying True</td>\n",
       "      <td>Sonia Anderson</td>\n",
       "      <td>Interviews with: Pink, Adele, Beyoncé, Britney...</td>\n",
       "      <td>United States</td>\n",
       "      <td>March 30, 2021</td>\n",
       "      <td>2014</td>\n",
       "      <td>NaN</td>\n",
       "      <td>69 min</td>\n",
       "      <td>Documentary</td>\n",
       "      <td>Pink breaks the mold once again, bringing her ...</td>\n",
       "    </tr>\n",
       "    <tr>\n",
       "      <th>4</th>\n",
       "      <td>s5</td>\n",
       "      <td>Movie</td>\n",
       "      <td>Monster Maker</td>\n",
       "      <td>Giles Foster</td>\n",
       "      <td>Harry Dean Stanton, Kieran O'Brien, George Cos...</td>\n",
       "      <td>United Kingdom</td>\n",
       "      <td>March 30, 2021</td>\n",
       "      <td>1989</td>\n",
       "      <td>NaN</td>\n",
       "      <td>45 min</td>\n",
       "      <td>Drama, Fantasy</td>\n",
       "      <td>Teenage Matt Banting wants to work with a famo...</td>\n",
       "    </tr>\n",
       "  </tbody>\n",
       "</table>\n",
       "</div>"
      ],
      "text/plain": [
       "  show_id   type                 title        director  \\\n",
       "0      s1  Movie   The Grand Seduction    Don McKellar   \n",
       "1      s2  Movie  Take Care Good Night    Girish Joshi   \n",
       "2      s3  Movie  Secrets of Deception     Josh Webber   \n",
       "3      s4  Movie    Pink: Staying True  Sonia Anderson   \n",
       "4      s5  Movie         Monster Maker    Giles Foster   \n",
       "\n",
       "                                                cast         country  \\\n",
       "0     Brendan Gleeson, Taylor Kitsch, Gordon Pinsent          Canada   \n",
       "1   Mahesh Manjrekar, Abhay Mahajan, Sachin Khedekar           India   \n",
       "2  Tom Sizemore, Lorenzo Lamas, Robert LaSardo, R...   United States   \n",
       "3  Interviews with: Pink, Adele, Beyoncé, Britney...   United States   \n",
       "4  Harry Dean Stanton, Kieran O'Brien, George Cos...  United Kingdom   \n",
       "\n",
       "       date_added  release_year rating duration                listed_in  \\\n",
       "0  March 30, 2021          2014    NaN  113 min            Comedy, Drama   \n",
       "1  March 30, 2021          2018    13+  110 min     Drama, International   \n",
       "2  March 30, 2021          2017    NaN   74 min  Action, Drama, Suspense   \n",
       "3  March 30, 2021          2014    NaN   69 min              Documentary   \n",
       "4  March 30, 2021          1989    NaN   45 min           Drama, Fantasy   \n",
       "\n",
       "                                         description  \n",
       "0  A small fishing village must procure a local d...  \n",
       "1  A Metro Family decides to fight a Cyber Crimin...  \n",
       "2  After a man discovers his wife is cheating on ...  \n",
       "3  Pink breaks the mold once again, bringing her ...  \n",
       "4  Teenage Matt Banting wants to work with a famo...  "
      ]
     },
     "execution_count": 4,
     "metadata": {},
     "output_type": "execute_result"
    }
   ],
   "source": [
    "df.head(5)"
   ]
  },
  {
   "cell_type": "code",
   "execution_count": null,
   "id": "39f10f50",
   "metadata": {},
   "outputs": [],
   "source": []
  },
  {
   "cell_type": "code",
   "execution_count": 5,
   "id": "1f5e2943",
   "metadata": {},
   "outputs": [
    {
     "data": {
      "text/html": [
       "<div>\n",
       "<style scoped>\n",
       "    .dataframe tbody tr th:only-of-type {\n",
       "        vertical-align: middle;\n",
       "    }\n",
       "\n",
       "    .dataframe tbody tr th {\n",
       "        vertical-align: top;\n",
       "    }\n",
       "\n",
       "    .dataframe thead th {\n",
       "        text-align: right;\n",
       "    }\n",
       "</style>\n",
       "<table border=\"1\" class=\"dataframe\">\n",
       "  <thead>\n",
       "    <tr style=\"text-align: right;\">\n",
       "      <th></th>\n",
       "      <th>show_id</th>\n",
       "      <th>type</th>\n",
       "      <th>title</th>\n",
       "      <th>director</th>\n",
       "      <th>cast</th>\n",
       "      <th>country</th>\n",
       "      <th>date_added</th>\n",
       "      <th>release_year</th>\n",
       "      <th>rating</th>\n",
       "      <th>duration</th>\n",
       "      <th>listed_in</th>\n",
       "      <th>description</th>\n",
       "    </tr>\n",
       "  </thead>\n",
       "  <tbody>\n",
       "    <tr>\n",
       "      <th>9663</th>\n",
       "      <td>s9664</td>\n",
       "      <td>Movie</td>\n",
       "      <td>Pride Of The Bowery</td>\n",
       "      <td>Joseph H. Lewis</td>\n",
       "      <td>Leo Gorcey, Bobby Jordan</td>\n",
       "      <td>NaN</td>\n",
       "      <td>NaN</td>\n",
       "      <td>1940</td>\n",
       "      <td>7+</td>\n",
       "      <td>60 min</td>\n",
       "      <td>Comedy</td>\n",
       "      <td>New York City street principles get an East Si...</td>\n",
       "    </tr>\n",
       "    <tr>\n",
       "      <th>9664</th>\n",
       "      <td>s9665</td>\n",
       "      <td>TV Show</td>\n",
       "      <td>Planet Patrol</td>\n",
       "      <td>NaN</td>\n",
       "      <td>DICK VOSBURGH, RONNIE STEVENS, LIBBY MORRIS, M...</td>\n",
       "      <td>NaN</td>\n",
       "      <td>NaN</td>\n",
       "      <td>2018</td>\n",
       "      <td>13+</td>\n",
       "      <td>4 Seasons</td>\n",
       "      <td>TV Shows</td>\n",
       "      <td>This is Earth, 2100AD - and these are the adve...</td>\n",
       "    </tr>\n",
       "    <tr>\n",
       "      <th>9665</th>\n",
       "      <td>s9666</td>\n",
       "      <td>Movie</td>\n",
       "      <td>Outpost</td>\n",
       "      <td>Steve Barker</td>\n",
       "      <td>Ray Stevenson, Julian Wadham, Richard Brake, M...</td>\n",
       "      <td>NaN</td>\n",
       "      <td>NaN</td>\n",
       "      <td>2008</td>\n",
       "      <td>R</td>\n",
       "      <td>90 min</td>\n",
       "      <td>Action</td>\n",
       "      <td>In war-torn Eastern Europe, a world-weary grou...</td>\n",
       "    </tr>\n",
       "    <tr>\n",
       "      <th>9666</th>\n",
       "      <td>s9667</td>\n",
       "      <td>TV Show</td>\n",
       "      <td>Maradona: Blessed Dream</td>\n",
       "      <td>NaN</td>\n",
       "      <td>Esteban Recagno, Ezequiel Stremiz, Luciano Vit...</td>\n",
       "      <td>NaN</td>\n",
       "      <td>NaN</td>\n",
       "      <td>2021</td>\n",
       "      <td>TV-MA</td>\n",
       "      <td>1 Season</td>\n",
       "      <td>Drama, Sports</td>\n",
       "      <td>The series tells the story of Diego Maradona, ...</td>\n",
       "    </tr>\n",
       "    <tr>\n",
       "      <th>9667</th>\n",
       "      <td>s9668</td>\n",
       "      <td>Movie</td>\n",
       "      <td>Harry Brown</td>\n",
       "      <td>Daniel Barber</td>\n",
       "      <td>Michael Caine, Emily Mortimer, Joseph Gilgun, ...</td>\n",
       "      <td>NaN</td>\n",
       "      <td>NaN</td>\n",
       "      <td>2010</td>\n",
       "      <td>R</td>\n",
       "      <td>103 min</td>\n",
       "      <td>Action, Drama, Suspense</td>\n",
       "      <td>Harry Brown, starring two-time Academy Award w...</td>\n",
       "    </tr>\n",
       "  </tbody>\n",
       "</table>\n",
       "</div>"
      ],
      "text/plain": [
       "     show_id     type                    title         director  \\\n",
       "9663   s9664    Movie      Pride Of The Bowery  Joseph H. Lewis   \n",
       "9664   s9665  TV Show            Planet Patrol              NaN   \n",
       "9665   s9666    Movie                  Outpost     Steve Barker   \n",
       "9666   s9667  TV Show  Maradona: Blessed Dream              NaN   \n",
       "9667   s9668    Movie              Harry Brown    Daniel Barber   \n",
       "\n",
       "                                                   cast country date_added  \\\n",
       "9663                           Leo Gorcey, Bobby Jordan     NaN        NaN   \n",
       "9664  DICK VOSBURGH, RONNIE STEVENS, LIBBY MORRIS, M...     NaN        NaN   \n",
       "9665  Ray Stevenson, Julian Wadham, Richard Brake, M...     NaN        NaN   \n",
       "9666  Esteban Recagno, Ezequiel Stremiz, Luciano Vit...     NaN        NaN   \n",
       "9667  Michael Caine, Emily Mortimer, Joseph Gilgun, ...     NaN        NaN   \n",
       "\n",
       "      release_year rating   duration                listed_in  \\\n",
       "9663          1940     7+     60 min                   Comedy   \n",
       "9664          2018    13+  4 Seasons                 TV Shows   \n",
       "9665          2008      R     90 min                   Action   \n",
       "9666          2021  TV-MA   1 Season            Drama, Sports   \n",
       "9667          2010      R    103 min  Action, Drama, Suspense   \n",
       "\n",
       "                                            description  \n",
       "9663  New York City street principles get an East Si...  \n",
       "9664  This is Earth, 2100AD - and these are the adve...  \n",
       "9665  In war-torn Eastern Europe, a world-weary grou...  \n",
       "9666  The series tells the story of Diego Maradona, ...  \n",
       "9667  Harry Brown, starring two-time Academy Award w...  "
      ]
     },
     "execution_count": 5,
     "metadata": {},
     "output_type": "execute_result"
    }
   ],
   "source": [
    "df.tail(5)"
   ]
  },
  {
   "cell_type": "code",
   "execution_count": null,
   "id": "6b90784c",
   "metadata": {},
   "outputs": [],
   "source": []
  },
  {
   "cell_type": "code",
   "execution_count": 6,
   "id": "9b550baf",
   "metadata": {},
   "outputs": [
    {
     "data": {
      "text/plain": [
       "(9668, 12)"
      ]
     },
     "execution_count": 6,
     "metadata": {},
     "output_type": "execute_result"
    }
   ],
   "source": [
    "df.shape"
   ]
  },
  {
   "cell_type": "code",
   "execution_count": null,
   "id": "3c563b07",
   "metadata": {},
   "outputs": [],
   "source": []
  },
  {
   "cell_type": "code",
   "execution_count": 9,
   "id": "d0a34c30",
   "metadata": {},
   "outputs": [
    {
     "data": {
      "text/plain": [
       "Index(['show_id', 'type', 'title', 'director', 'cast', 'country', 'date_added',\n",
       "       'release_year', 'rating', 'duration', 'listed_in', 'description'],\n",
       "      dtype='object')"
      ]
     },
     "execution_count": 9,
     "metadata": {},
     "output_type": "execute_result"
    }
   ],
   "source": [
    "df.columns"
   ]
  },
  {
   "cell_type": "code",
   "execution_count": null,
   "id": "fb82676f",
   "metadata": {},
   "outputs": [],
   "source": []
  },
  {
   "cell_type": "code",
   "execution_count": 10,
   "id": "06605dfe",
   "metadata": {},
   "outputs": [
    {
     "data": {
      "text/plain": [
       "show_id         object\n",
       "type            object\n",
       "title           object\n",
       "director        object\n",
       "cast            object\n",
       "country         object\n",
       "date_added      object\n",
       "release_year     int64\n",
       "rating          object\n",
       "duration        object\n",
       "listed_in       object\n",
       "description     object\n",
       "dtype: object"
      ]
     },
     "execution_count": 10,
     "metadata": {},
     "output_type": "execute_result"
    }
   ],
   "source": [
    "df.dtypes"
   ]
  },
  {
   "cell_type": "code",
   "execution_count": null,
   "id": "6e365d57",
   "metadata": {},
   "outputs": [],
   "source": []
  },
  {
   "cell_type": "code",
   "execution_count": 15,
   "id": "d5577cc5",
   "metadata": {},
   "outputs": [
    {
     "data": {
      "text/plain": [
       "array(['Don McKellar', 'Girish Joshi', 'Josh Webber', ...,\n",
       "       'John-Paul Davidson, Stephen Warbeck', 'Emily Skye',\n",
       "       'Steve Barker'], dtype=object)"
      ]
     },
     "execution_count": 15,
     "metadata": {},
     "output_type": "execute_result"
    }
   ],
   "source": [
    "df[\"director\"].unique()"
   ]
  },
  {
   "cell_type": "code",
   "execution_count": null,
   "id": "4cc65449",
   "metadata": {},
   "outputs": [],
   "source": []
  },
  {
   "cell_type": "code",
   "execution_count": 17,
   "id": "9d562097",
   "metadata": {},
   "outputs": [
    {
     "data": {
      "text/plain": [
       "5774"
      ]
     },
     "execution_count": 17,
     "metadata": {},
     "output_type": "execute_result"
    }
   ],
   "source": [
    "df[\"director\"].nunique()"
   ]
  },
  {
   "cell_type": "code",
   "execution_count": null,
   "id": "0af1c0b9",
   "metadata": {},
   "outputs": [],
   "source": []
  },
  {
   "cell_type": "code",
   "execution_count": 19,
   "id": "4bb04d80",
   "metadata": {},
   "outputs": [
    {
     "data": {
      "text/plain": [
       "show_id         9668\n",
       "type               2\n",
       "title           9668\n",
       "director        5774\n",
       "cast            7927\n",
       "country           86\n",
       "date_added        84\n",
       "release_year     100\n",
       "rating            24\n",
       "duration         219\n",
       "listed_in        518\n",
       "description     9414\n",
       "dtype: int64"
      ]
     },
     "execution_count": 19,
     "metadata": {},
     "output_type": "execute_result"
    }
   ],
   "source": [
    "df.nunique()"
   ]
  },
  {
   "cell_type": "code",
   "execution_count": null,
   "id": "fdc666ce",
   "metadata": {},
   "outputs": [],
   "source": []
  },
  {
   "cell_type": "code",
   "execution_count": 20,
   "id": "f057b220",
   "metadata": {},
   "outputs": [
    {
     "name": "stdout",
     "output_type": "stream",
     "text": [
      "<class 'pandas.core.frame.DataFrame'>\n",
      "RangeIndex: 9668 entries, 0 to 9667\n",
      "Data columns (total 12 columns):\n",
      " #   Column        Non-Null Count  Dtype \n",
      "---  ------        --------------  ----- \n",
      " 0   show_id       9668 non-null   object\n",
      " 1   type          9668 non-null   object\n",
      " 2   title         9668 non-null   object\n",
      " 3   director      7586 non-null   object\n",
      " 4   cast          8435 non-null   object\n",
      " 5   country       672 non-null    object\n",
      " 6   date_added    155 non-null    object\n",
      " 7   release_year  9668 non-null   int64 \n",
      " 8   rating        9331 non-null   object\n",
      " 9   duration      9668 non-null   object\n",
      " 10  listed_in     9668 non-null   object\n",
      " 11  description   9668 non-null   object\n",
      "dtypes: int64(1), object(11)\n",
      "memory usage: 906.5+ KB\n"
     ]
    }
   ],
   "source": [
    "df.info()"
   ]
  },
  {
   "cell_type": "code",
   "execution_count": null,
   "id": "b78396de",
   "metadata": {},
   "outputs": [],
   "source": []
  },
  {
   "cell_type": "code",
   "execution_count": null,
   "id": "7399e96f",
   "metadata": {},
   "outputs": [],
   "source": []
  },
  {
   "cell_type": "code",
   "execution_count": 23,
   "id": "3e5d29d0",
   "metadata": {},
   "outputs": [
    {
     "data": {
      "image/png": "[encoded data removed]",
      "text/plain": [
       "<Figure size 640x480 with 2 Axes>"
      ]
     },
     "metadata": {},
     "output_type": "display_data"
    }
   ],
   "source": [
    "sns.heatmap(df.isnull())\n",
    "plt.show()"
   ]
  },
  {
   "cell_type": "code",
   "execution_count": null,
   "id": "0d256fa1",
   "metadata": {},
   "outputs": [],
   "source": []
  },
  {
   "cell_type": "code",
   "execution_count": null,
   "id": "fb3e98cd",
   "metadata": {},
   "outputs": [],
   "source": []
  },
  {
   "cell_type": "code",
   "execution_count": 24,
   "id": "52ba721e",
   "metadata": {},
   "outputs": [
    {
     "data": {
      "text/plain": [
       "2021    1442\n",
       "2020     962\n",
       "2019     929\n",
       "2018     623\n",
       "2017     562\n",
       "        ... \n",
       "1922       2\n",
       "1926       2\n",
       "1924       1\n",
       "1923       1\n",
       "1927       1\n",
       "Name: release_year, Length: 100, dtype: int64"
      ]
     },
     "execution_count": 24,
     "metadata": {},
     "output_type": "execute_result"
    }
   ],
   "source": [
    "df[\"release_year\"].value_counts()"
   ]
  },
  {
   "cell_type": "code",
   "execution_count": 27,
   "id": "19cbbd84",
   "metadata": {},
   "outputs": [
    {
     "data": {
      "text/plain": [
       "2021    1442\n",
       "2020     962\n",
       "2019     929\n",
       "2018     623\n",
       "2017     562\n",
       "        ... \n",
       "1922       2\n",
       "1926       2\n",
       "1924       1\n",
       "1923       1\n",
       "1927       1\n",
       "Name: release_year, Length: 100, dtype: int64"
      ]
     },
     "execution_count": 27,
     "metadata": {},
     "output_type": "execute_result"
    }
   ],
   "source": [
    "df.release_year.value_counts()"
   ]
  },
  {
   "cell_type": "code",
   "execution_count": null,
   "id": "df6c973c",
   "metadata": {},
   "outputs": [],
   "source": []
  },
  {
   "cell_type": "code",
   "execution_count": 29,
   "id": "c32fca03",
   "metadata": {},
   "outputs": [
    {
     "data": {
      "text/plain": [
       "Movie      7814\n",
       "TV Show    1854\n",
       "Name: type, dtype: int64"
      ]
     },
     "execution_count": 29,
     "metadata": {},
     "output_type": "execute_result"
    }
   ],
   "source": [
    "df[\"type\"].value_counts()"
   ]
  },
  {
   "cell_type": "code",
   "execution_count": 28,
   "id": "b13d6d2f",
   "metadata": {},
   "outputs": [
    {
     "data": {
      "text/plain": [
       "Movie      7814\n",
       "TV Show    1854\n",
       "Name: type, dtype: int64"
      ]
     },
     "execution_count": 28,
     "metadata": {},
     "output_type": "execute_result"
    }
   ],
   "source": [
    "df.type.value_counts()"
   ]
  },
  {
   "cell_type": "code",
   "execution_count": null,
   "id": "c57bc919",
   "metadata": {},
   "outputs": [],
   "source": []
  },
  {
   "cell_type": "code",
   "execution_count": 30,
   "id": "cf802e18",
   "metadata": {},
   "outputs": [
    {
     "data": {
      "text/plain": [
       "<Axes: >"
      ]
     },
     "execution_count": 30,
     "metadata": {},
     "output_type": "execute_result"
    },
    {
     "data": {
      "image/png": "[encoded data removed]",
      "text/plain": [
       "<Figure size 640x480 with 1 Axes>"
      ]
     },
     "metadata": {},
     "output_type": "display_data"
    }
   ],
   "source": [
    "df[\"type\"].value_counts().plot(kind=\"bar\")"
   ]
  },
  {
   "cell_type": "code",
   "execution_count": null,
   "id": "140147ce",
   "metadata": {},
   "outputs": [],
   "source": []
  },
  {
   "cell_type": "code",
   "execution_count": 33,
   "id": "fbcd0847",
   "metadata": {},
   "outputs": [
    {
     "data": {
      "text/html": [
       "<div>\n",
       "<style scoped>\n",
       "    .dataframe tbody tr th:only-of-type {\n",
       "        vertical-align: middle;\n",
       "    }\n",
       "\n",
       "    .dataframe tbody tr th {\n",
       "        vertical-align: top;\n",
       "    }\n",
       "\n",
       "    .dataframe thead th {\n",
       "        text-align: right;\n",
       "    }\n",
       "</style>\n",
       "<table border=\"1\" class=\"dataframe\">\n",
       "  <thead>\n",
       "    <tr style=\"text-align: right;\">\n",
       "      <th></th>\n",
       "      <th>show_id</th>\n",
       "      <th>type</th>\n",
       "      <th>title</th>\n",
       "      <th>director</th>\n",
       "      <th>cast</th>\n",
       "      <th>country</th>\n",
       "      <th>date_added</th>\n",
       "      <th>release_year</th>\n",
       "      <th>rating</th>\n",
       "      <th>duration</th>\n",
       "      <th>listed_in</th>\n",
       "      <th>description</th>\n",
       "    </tr>\n",
       "  </thead>\n",
       "  <tbody>\n",
       "    <tr>\n",
       "      <th>4</th>\n",
       "      <td>s5</td>\n",
       "      <td>Movie</td>\n",
       "      <td>Monster Maker</td>\n",
       "      <td>Giles Foster</td>\n",
       "      <td>Harry Dean Stanton, Kieran O'Brien, George Cos...</td>\n",
       "      <td>United Kingdom</td>\n",
       "      <td>March 30, 2021</td>\n",
       "      <td>1989</td>\n",
       "      <td>NaN</td>\n",
       "      <td>45 min</td>\n",
       "      <td>Drama, Fantasy</td>\n",
       "      <td>Teenage Matt Banting wants to work with a famo...</td>\n",
       "    </tr>\n",
       "    <tr>\n",
       "      <th>5</th>\n",
       "      <td>s6</td>\n",
       "      <td>Movie</td>\n",
       "      <td>Living With Dinosaurs</td>\n",
       "      <td>Paul Weiland</td>\n",
       "      <td>Gregory Chisholm, Juliet Stevenson, Brian Hens...</td>\n",
       "      <td>United Kingdom</td>\n",
       "      <td>March 30, 2021</td>\n",
       "      <td>1989</td>\n",
       "      <td>NaN</td>\n",
       "      <td>52 min</td>\n",
       "      <td>Fantasy, Kids</td>\n",
       "      <td>The story unfolds in a an English seaside town...</td>\n",
       "    </tr>\n",
       "    <tr>\n",
       "      <th>14</th>\n",
       "      <td>s15</td>\n",
       "      <td>Movie</td>\n",
       "      <td>Elon Musk: The Real Life Iron Man</td>\n",
       "      <td>Sonia Anderson</td>\n",
       "      <td>Elon Musk, Per Wimmer, Julie Anderson-Ankenbra...</td>\n",
       "      <td>United Kingdom</td>\n",
       "      <td>May 2, 2021</td>\n",
       "      <td>2018</td>\n",
       "      <td>NaN</td>\n",
       "      <td>74 min</td>\n",
       "      <td>Documentary</td>\n",
       "      <td>Discover the meteoric rise of Elon Musk, the m...</td>\n",
       "    </tr>\n",
       "    <tr>\n",
       "      <th>374</th>\n",
       "      <td>s375</td>\n",
       "      <td>Movie</td>\n",
       "      <td>The Zombie King</td>\n",
       "      <td>Aidan Belizaire</td>\n",
       "      <td>Edward Furlong, Corey Feldman, George McCluskey</td>\n",
       "      <td>United Kingdom</td>\n",
       "      <td>NaN</td>\n",
       "      <td>2013</td>\n",
       "      <td>16+</td>\n",
       "      <td>96 min</td>\n",
       "      <td>Comedy, Horror</td>\n",
       "      <td>After heartbroken widower Samuel makes a deal ...</td>\n",
       "    </tr>\n",
       "    <tr>\n",
       "      <th>656</th>\n",
       "      <td>s657</td>\n",
       "      <td>Movie</td>\n",
       "      <td>The Flaw</td>\n",
       "      <td>David Sington</td>\n",
       "      <td>Andrew Luan, Robert Shiller, Louis Hyman</td>\n",
       "      <td>United Kingdom</td>\n",
       "      <td>NaN</td>\n",
       "      <td>2011</td>\n",
       "      <td>13+</td>\n",
       "      <td>81 min</td>\n",
       "      <td>Special Interest</td>\n",
       "      <td>The definitive doc on the 2008 financial crash...</td>\n",
       "    </tr>\n",
       "    <tr>\n",
       "      <th>892</th>\n",
       "      <td>s893</td>\n",
       "      <td>Movie</td>\n",
       "      <td>Stick Man</td>\n",
       "      <td>Jeroen Jaspaert, Daniel Snaddon</td>\n",
       "      <td>Martin Freeman, Jennifer Saunders, Russell Tov...</td>\n",
       "      <td>United Kingdom</td>\n",
       "      <td>NaN</td>\n",
       "      <td>2015</td>\n",
       "      <td>ALL</td>\n",
       "      <td>27 min</td>\n",
       "      <td>Adventure, Animation, Kids</td>\n",
       "      <td>A half-hour animation based on the much-loved ...</td>\n",
       "    </tr>\n",
       "    <tr>\n",
       "      <th>2095</th>\n",
       "      <td>s2096</td>\n",
       "      <td>Movie</td>\n",
       "      <td>Instant Death</td>\n",
       "      <td>Ara Paiaya</td>\n",
       "      <td>Lou Ferrigno</td>\n",
       "      <td>United Kingdom</td>\n",
       "      <td>NaN</td>\n",
       "      <td>2017</td>\n",
       "      <td>18+</td>\n",
       "      <td>84 min</td>\n",
       "      <td>Action</td>\n",
       "      <td>A gang war for drug dominance draws in a distu...</td>\n",
       "    </tr>\n",
       "    <tr>\n",
       "      <th>2364</th>\n",
       "      <td>s2365</td>\n",
       "      <td>Movie</td>\n",
       "      <td>Get Duked!</td>\n",
       "      <td>Ninian Doff</td>\n",
       "      <td>Eddie Izzard, Kate Dickie, James Cosmo, Samuel...</td>\n",
       "      <td>United Kingdom</td>\n",
       "      <td>NaN</td>\n",
       "      <td>2020</td>\n",
       "      <td>16+</td>\n",
       "      <td>87 min</td>\n",
       "      <td>Adventure, Comedy</td>\n",
       "      <td>Get Duked is an anarchic, hip-hop inspired com...</td>\n",
       "    </tr>\n",
       "    <tr>\n",
       "      <th>2381</th>\n",
       "      <td>s2382</td>\n",
       "      <td>Movie</td>\n",
       "      <td>Gascoigne</td>\n",
       "      <td>Jane Preston</td>\n",
       "      <td>Paul Gascoigne, Vinnie Jones, Gary Lineker, Jo...</td>\n",
       "      <td>United Kingdom</td>\n",
       "      <td>NaN</td>\n",
       "      <td>2015</td>\n",
       "      <td>16+</td>\n",
       "      <td>87 min</td>\n",
       "      <td>Documentary</td>\n",
       "      <td>Celebrating the life and achievements of natur...</td>\n",
       "    </tr>\n",
       "    <tr>\n",
       "      <th>2534</th>\n",
       "      <td>s2535</td>\n",
       "      <td>Movie</td>\n",
       "      <td>Everybody's Game</td>\n",
       "      <td>Beno Obano</td>\n",
       "      <td>Maro Itoje, Beno Obano, Anthony Watson, Ellis ...</td>\n",
       "      <td>United Kingdom</td>\n",
       "      <td>NaN</td>\n",
       "      <td>2020</td>\n",
       "      <td>16+</td>\n",
       "      <td>53 min</td>\n",
       "      <td>Documentary</td>\n",
       "      <td>Coming from the most unlikely of rugby playing...</td>\n",
       "    </tr>\n",
       "  </tbody>\n",
       "</table>\n",
       "</div>"
      ],
      "text/plain": [
       "     show_id   type                              title  \\\n",
       "4         s5  Movie                      Monster Maker   \n",
       "5         s6  Movie              Living With Dinosaurs   \n",
       "14       s15  Movie  Elon Musk: The Real Life Iron Man   \n",
       "374     s375  Movie                    The Zombie King   \n",
       "656     s657  Movie                           The Flaw   \n",
       "892     s893  Movie                          Stick Man   \n",
       "2095   s2096  Movie                      Instant Death   \n",
       "2364   s2365  Movie                         Get Duked!   \n",
       "2381   s2382  Movie                          Gascoigne   \n",
       "2534   s2535  Movie                   Everybody's Game   \n",
       "\n",
       "                             director  \\\n",
       "4                        Giles Foster   \n",
       "5                        Paul Weiland   \n",
       "14                     Sonia Anderson   \n",
       "374                   Aidan Belizaire   \n",
       "656                     David Sington   \n",
       "892   Jeroen Jaspaert, Daniel Snaddon   \n",
       "2095                       Ara Paiaya   \n",
       "2364                      Ninian Doff   \n",
       "2381                     Jane Preston   \n",
       "2534                       Beno Obano   \n",
       "\n",
       "                                                   cast         country  \\\n",
       "4     Harry Dean Stanton, Kieran O'Brien, George Cos...  United Kingdom   \n",
       "5     Gregory Chisholm, Juliet Stevenson, Brian Hens...  United Kingdom   \n",
       "14    Elon Musk, Per Wimmer, Julie Anderson-Ankenbra...  United Kingdom   \n",
       "374     Edward Furlong, Corey Feldman, George McCluskey  United Kingdom   \n",
       "656            Andrew Luan, Robert Shiller, Louis Hyman  United Kingdom   \n",
       "892   Martin Freeman, Jennifer Saunders, Russell Tov...  United Kingdom   \n",
       "2095                                       Lou Ferrigno  United Kingdom   \n",
       "2364  Eddie Izzard, Kate Dickie, James Cosmo, Samuel...  United Kingdom   \n",
       "2381  Paul Gascoigne, Vinnie Jones, Gary Lineker, Jo...  United Kingdom   \n",
       "2534  Maro Itoje, Beno Obano, Anthony Watson, Ellis ...  United Kingdom   \n",
       "\n",
       "          date_added  release_year rating duration  \\\n",
       "4     March 30, 2021          1989    NaN   45 min   \n",
       "5     March 30, 2021          1989    NaN   52 min   \n",
       "14       May 2, 2021          2018    NaN   74 min   \n",
       "374              NaN          2013    16+   96 min   \n",
       "656              NaN          2011    13+   81 min   \n",
       "892              NaN          2015    ALL   27 min   \n",
       "2095             NaN          2017    18+   84 min   \n",
       "2364             NaN          2020    16+   87 min   \n",
       "2381             NaN          2015    16+   87 min   \n",
       "2534             NaN          2020    16+   53 min   \n",
       "\n",
       "                       listed_in  \\\n",
       "4                 Drama, Fantasy   \n",
       "5                  Fantasy, Kids   \n",
       "14                   Documentary   \n",
       "374               Comedy, Horror   \n",
       "656             Special Interest   \n",
       "892   Adventure, Animation, Kids   \n",
       "2095                      Action   \n",
       "2364           Adventure, Comedy   \n",
       "2381                 Documentary   \n",
       "2534                 Documentary   \n",
       "\n",
       "                                            description  \n",
       "4     Teenage Matt Banting wants to work with a famo...  \n",
       "5     The story unfolds in a an English seaside town...  \n",
       "14    Discover the meteoric rise of Elon Musk, the m...  \n",
       "374   After heartbroken widower Samuel makes a deal ...  \n",
       "656   The definitive doc on the 2008 financial crash...  \n",
       "892   A half-hour animation based on the much-loved ...  \n",
       "2095  A gang war for drug dominance draws in a distu...  \n",
       "2364  Get Duked is an anarchic, hip-hop inspired com...  \n",
       "2381  Celebrating the life and achievements of natur...  \n",
       "2534  Coming from the most unlikely of rugby playing...  "
      ]
     },
     "execution_count": 33,
     "metadata": {},
     "output_type": "execute_result"
    }
   ],
   "source": [
    "df[(df[\"type\"]==\"Movie\") & (df[\"country\"]==\"United Kingdom\")].head(10)"
   ]
  },
  {
   "cell_type": "code",
   "execution_count": null,
   "id": "3f528472",
   "metadata": {},
   "outputs": [],
   "source": []
  },
  {
   "cell_type": "code",
   "execution_count": 34,
   "id": "997b722c",
   "metadata": {},
   "outputs": [
    {
     "data": {
      "text/html": [
       "<div>\n",
       "<style scoped>\n",
       "    .dataframe tbody tr th:only-of-type {\n",
       "        vertical-align: middle;\n",
       "    }\n",
       "\n",
       "    .dataframe tbody tr th {\n",
       "        vertical-align: top;\n",
       "    }\n",
       "\n",
       "    .dataframe thead th {\n",
       "        text-align: right;\n",
       "    }\n",
       "</style>\n",
       "<table border=\"1\" class=\"dataframe\">\n",
       "  <thead>\n",
       "    <tr style=\"text-align: right;\">\n",
       "      <th></th>\n",
       "      <th>show_id</th>\n",
       "      <th>type</th>\n",
       "      <th>title</th>\n",
       "      <th>director</th>\n",
       "      <th>cast</th>\n",
       "      <th>country</th>\n",
       "      <th>date_added</th>\n",
       "      <th>release_year</th>\n",
       "      <th>rating</th>\n",
       "      <th>duration</th>\n",
       "      <th>listed_in</th>\n",
       "      <th>description</th>\n",
       "    </tr>\n",
       "  </thead>\n",
       "  <tbody>\n",
       "    <tr>\n",
       "      <th>5</th>\n",
       "      <td>s6</td>\n",
       "      <td>Movie</td>\n",
       "      <td>Living With Dinosaurs</td>\n",
       "      <td>Paul Weiland</td>\n",
       "      <td>Gregory Chisholm, Juliet Stevenson, Brian Hens...</td>\n",
       "      <td>United Kingdom</td>\n",
       "      <td>March 30, 2021</td>\n",
       "      <td>1989</td>\n",
       "      <td>NaN</td>\n",
       "      <td>52 min</td>\n",
       "      <td>Fantasy, Kids</td>\n",
       "      <td>The story unfolds in a an English seaside town...</td>\n",
       "    </tr>\n",
       "  </tbody>\n",
       "</table>\n",
       "</div>"
      ],
      "text/plain": [
       "  show_id   type                  title      director  \\\n",
       "5      s6  Movie  Living With Dinosaurs  Paul Weiland   \n",
       "\n",
       "                                                cast         country  \\\n",
       "5  Gregory Chisholm, Juliet Stevenson, Brian Hens...  United Kingdom   \n",
       "\n",
       "       date_added  release_year rating duration      listed_in  \\\n",
       "5  March 30, 2021          1989    NaN   52 min  Fantasy, Kids   \n",
       "\n",
       "                                         description  \n",
       "5  The story unfolds in a an English seaside town...  "
      ]
     },
     "execution_count": 34,
     "metadata": {},
     "output_type": "execute_result"
    }
   ],
   "source": [
    "df[(df[\"type\"]==\"Movie\") & (df[\"director\"]==\"Paul Weiland\")].head(10)"
   ]
  },
  {
   "cell_type": "code",
   "execution_count": null,
   "id": "c1f90f14",
   "metadata": {},
   "outputs": [],
   "source": []
  },
  {
   "cell_type": "code",
   "execution_count": 35,
   "id": "35809d78",
   "metadata": {},
   "outputs": [
    {
     "data": {
      "text/plain": [
       "Mark Knight              113\n",
       "Cannis Holder             61\n",
       "Moonbug Entertainment     37\n",
       "Jay Chapman               34\n",
       "Arthur van Merwijk        30\n",
       "Name: director, dtype: int64"
      ]
     },
     "execution_count": 35,
     "metadata": {},
     "output_type": "execute_result"
    }
   ],
   "source": [
    "df[\"director\"].value_counts().head()"
   ]
  },
  {
   "cell_type": "code",
   "execution_count": null,
   "id": "c3396ea3",
   "metadata": {},
   "outputs": [],
   "source": []
  },
  {
   "cell_type": "code",
   "execution_count": null,
   "id": "8a57323a",
   "metadata": {},
   "outputs": [],
   "source": [
    "    "
   ]
  },
  {
   "cell_type": "code",
   "execution_count": 37,
   "id": "c7cdd8b5",
   "metadata": {},
   "outputs": [
    {
     "data": {
      "text/plain": [
       "<Axes: xlabel='release_year', ylabel='rating'>"
      ]
     },
     "execution_count": 37,
     "metadata": {},
     "output_type": "execute_result"
    },
    {
     "data": {
      "image/png": "[encoded data removed]",
      "text/plain": [
       "<Figure size 640x480 with 1 Axes>"
      ]
     },
     "metadata": {},
     "output_type": "display_data"
    }
   ],
   "source": [
    "sns.stripplot(x=\"release_year\",y=\"rating\",data=df)"
   ]
  },
  {
   "cell_type": "code",
   "execution_count": null,
   "id": "055f65a3",
   "metadata": {},
   "outputs": [],
   "source": []
  },
  {
   "cell_type": "code",
   "execution_count": null,
   "id": "12927735",
   "metadata": {},
   "outputs": [],
   "source": []
  },
  {
   "cell_type": "code",
   "execution_count": null,
   "id": "db820b6f",
   "metadata": {},
   "outputs": [],
   "source": []
  },
  {
   "cell_type": "code",
   "execution_count": null,
   "id": "5b80b5d4",
   "metadata": {},
   "outputs": [],
   "source": []
  },
  {
   "cell_type": "code",
   "execution_count": null,
   "id": "52e6681b",
   "metadata": {},
   "outputs": [],
   "source": []
  },
  {
   "cell_type": "code",
   "execution_count": null,
   "id": "c0fa49f4",
   "metadata": {},
   "outputs": [],
   "source": []
  }
 ],
 "metadata": {
  "kernelspec": {
   "display_name": "Python 3 (ipykernel)",
   "language": "python",
   "name": "python3"
  },
  "language_info": {
   "codemirror_mode": {
    "name": "ipython",
    "version": 3
   },
   "file_extension": ".py",
   "mimetype": "text/x-python",
   "name": "python",
   "nbconvert_exporter": "python",
   "pygments_lexer": "ipython3",
   "version": "3.10.9"
  },
  "varInspector": {
   "cols": {
    "lenName": 16,
    "lenType": 16,
    "lenVar": 40
   },
   "kernels_config": {
    "python": {
     "delete_cmd_postfix": "",
     "delete_cmd_prefix": "del ",
     "library": "var_list.py",
     "varRefreshCmd": "print(var_dic_list())"
    },
    "r": {
     "delete_cmd_postfix": ") ",
     "delete_cmd_prefix": "rm(",
     "library": "var_list.r",
     "varRefreshCmd": "cat(var_dic_list()) "
    }
   },
   "types_to_exclude": [
    "module",
    "function",
    "builtin_function_or_method",
    "instance",
    "_Feature"
   ],
   "window_display": false
  }
 },
 "nbformat": 4,
 "nbformat_minor": 5
}
