{
 "cells": [
  {
   "cell_type": "markdown",
   "id": "2afa2b0c",
   "metadata": {},
   "source": [
    "# Import Libraries"
   ]
  },
  {
   "cell_type": "code",
   "execution_count": 1,
   "id": "55867df0",
   "metadata": {},
   "outputs": [],
   "source": [
    "import pandas as pd"
   ]
  },
  {
   "cell_type": "code",
   "execution_count": 2,
   "id": "4b99299f",
   "metadata": {},
   "outputs": [],
   "source": [
    "import seaborn as sns\n",
    "import numpy as np\n",
    "import matplotlib.pyplot as plt\n",
    "import plotly.express as px"
   ]
  },
  {
   "cell_type": "code",
   "execution_count": null,
   "id": "d8096585",
   "metadata": {},
   "outputs": [],
   "source": []
  },
  {
   "cell_type": "markdown",
   "id": "fde9dac6",
   "metadata": {},
   "source": [
    "# Uploding CSV File"
   ]
  },
  {
   "cell_type": "code",
   "execution_count": 3,
   "id": "1c95a9bd",
   "metadata": {},
   "outputs": [],
   "source": [
    "df = pd.read_csv(\"Pubg_Stats.csv\")"
   ]
  },
  {
   "cell_type": "code",
   "execution_count": null,
   "id": "0c84bdef",
   "metadata": {},
   "outputs": [],
   "source": []
  },
  {
   "cell_type": "code",
   "execution_count": 6,
   "id": "28b2faef",
   "metadata": {},
   "outputs": [
    {
     "data": {
      "text/html": [
       "<div>\n",
       "<style scoped>\n",
       "    .dataframe tbody tr th:only-of-type {\n",
       "        vertical-align: middle;\n",
       "    }\n",
       "\n",
       "    .dataframe tbody tr th {\n",
       "        vertical-align: top;\n",
       "    }\n",
       "\n",
       "    .dataframe thead th {\n",
       "        text-align: right;\n",
       "    }\n",
       "</style>\n",
       "<table border=\"1\" class=\"dataframe\">\n",
       "  <thead>\n",
       "    <tr style=\"text-align: right;\">\n",
       "      <th></th>\n",
       "      <th>Unnamed: 0</th>\n",
       "      <th>Player_Name</th>\n",
       "      <th>Matches_Played</th>\n",
       "      <th>Kills</th>\n",
       "      <th>Deaths</th>\n",
       "      <th>Assists</th>\n",
       "      <th>Damage_Dealt</th>\n",
       "      <th>Headshots</th>\n",
       "      <th>Wins</th>\n",
       "      <th>Top_10s</th>\n",
       "      <th>Revives</th>\n",
       "      <th>Distance_Traveled</th>\n",
       "      <th>Weapons_Used</th>\n",
       "      <th>Time_Survived</th>\n",
       "      <th>Rank</th>\n",
       "    </tr>\n",
       "  </thead>\n",
       "  <tbody>\n",
       "    <tr>\n",
       "      <th>0</th>\n",
       "      <td>0</td>\n",
       "      <td>StealthMaster</td>\n",
       "      <td>250</td>\n",
       "      <td>587</td>\n",
       "      <td>143</td>\n",
       "      <td>98</td>\n",
       "      <td>15243</td>\n",
       "      <td>234</td>\n",
       "      <td>32</td>\n",
       "      <td>145</td>\n",
       "      <td>67</td>\n",
       "      <td>72560</td>\n",
       "      <td>12</td>\n",
       "      <td>28976</td>\n",
       "      <td>Gold</td>\n",
       "    </tr>\n",
       "    <tr>\n",
       "      <th>1</th>\n",
       "      <td>1</td>\n",
       "      <td>SniperLion</td>\n",
       "      <td>312</td>\n",
       "      <td>823</td>\n",
       "      <td>218</td>\n",
       "      <td>112</td>\n",
       "      <td>18975</td>\n",
       "      <td>312</td>\n",
       "      <td>42</td>\n",
       "      <td>189</td>\n",
       "      <td>95</td>\n",
       "      <td>89042</td>\n",
       "      <td>15</td>\n",
       "      <td>33652</td>\n",
       "      <td>Diamond</td>\n",
       "    </tr>\n",
       "    <tr>\n",
       "      <th>2</th>\n",
       "      <td>2</td>\n",
       "      <td>NinjaGamer</td>\n",
       "      <td>186</td>\n",
       "      <td>492</td>\n",
       "      <td>84</td>\n",
       "      <td>56</td>\n",
       "      <td>11786</td>\n",
       "      <td>156</td>\n",
       "      <td>28</td>\n",
       "      <td>97</td>\n",
       "      <td>48</td>\n",
       "      <td>60924</td>\n",
       "      <td>10</td>\n",
       "      <td>21764</td>\n",
       "      <td>Platinum</td>\n",
       "    </tr>\n",
       "    <tr>\n",
       "      <th>3</th>\n",
       "      <td>3</td>\n",
       "      <td>ThunderStrike</td>\n",
       "      <td>409</td>\n",
       "      <td>923</td>\n",
       "      <td>267</td>\n",
       "      <td>134</td>\n",
       "      <td>21037</td>\n",
       "      <td>288</td>\n",
       "      <td>55</td>\n",
       "      <td>258</td>\n",
       "      <td>128</td>\n",
       "      <td>98234</td>\n",
       "      <td>18</td>\n",
       "      <td>40128</td>\n",
       "      <td>Silver</td>\n",
       "    </tr>\n",
       "    <tr>\n",
       "      <th>4</th>\n",
       "      <td>4</td>\n",
       "      <td>SpeedDemon</td>\n",
       "      <td>143</td>\n",
       "      <td>368</td>\n",
       "      <td>68</td>\n",
       "      <td>42</td>\n",
       "      <td>9865</td>\n",
       "      <td>123</td>\n",
       "      <td>20</td>\n",
       "      <td>72</td>\n",
       "      <td>36</td>\n",
       "      <td>52072</td>\n",
       "      <td>8</td>\n",
       "      <td>16834</td>\n",
       "      <td>Gold</td>\n",
       "    </tr>\n",
       "  </tbody>\n",
       "</table>\n",
       "</div>"
      ],
      "text/plain": [
       "   Unnamed: 0    Player_Name  Matches_Played  Kills  Deaths  Assists  \\\n",
       "0           0  StealthMaster             250    587     143       98   \n",
       "1           1     SniperLion             312    823     218      112   \n",
       "2           2     NinjaGamer             186    492      84       56   \n",
       "3           3  ThunderStrike             409    923     267      134   \n",
       "4           4     SpeedDemon             143    368      68       42   \n",
       "\n",
       "   Damage_Dealt  Headshots  Wins  Top_10s  Revives  Distance_Traveled  \\\n",
       "0         15243        234    32      145       67              72560   \n",
       "1         18975        312    42      189       95              89042   \n",
       "2         11786        156    28       97       48              60924   \n",
       "3         21037        288    55      258      128              98234   \n",
       "4          9865        123    20       72       36              52072   \n",
       "\n",
       "   Weapons_Used  Time_Survived      Rank  \n",
       "0            12          28976      Gold  \n",
       "1            15          33652   Diamond  \n",
       "2            10          21764  Platinum  \n",
       "3            18          40128    Silver  \n",
       "4             8          16834      Gold  "
      ]
     },
     "execution_count": 6,
     "metadata": {},
     "output_type": "execute_result"
    }
   ],
   "source": [
    "df.head()"
   ]
  },
  {
   "cell_type": "code",
   "execution_count": null,
   "id": "8117b5d3",
   "metadata": {},
   "outputs": [],
   "source": []
  },
  {
   "cell_type": "code",
   "execution_count": 7,
   "id": "13af4cdd",
   "metadata": {},
   "outputs": [
    {
     "data": {
      "text/html": [
       "<div>\n",
       "<style scoped>\n",
       "    .dataframe tbody tr th:only-of-type {\n",
       "        vertical-align: middle;\n",
       "    }\n",
       "\n",
       "    .dataframe tbody tr th {\n",
       "        vertical-align: top;\n",
       "    }\n",
       "\n",
       "    .dataframe thead th {\n",
       "        text-align: right;\n",
       "    }\n",
       "</style>\n",
       "<table border=\"1\" class=\"dataframe\">\n",
       "  <thead>\n",
       "    <tr style=\"text-align: right;\">\n",
       "      <th></th>\n",
       "      <th>Unnamed: 0</th>\n",
       "      <th>Player_Name</th>\n",
       "      <th>Matches_Played</th>\n",
       "      <th>Kills</th>\n",
       "      <th>Deaths</th>\n",
       "      <th>Assists</th>\n",
       "      <th>Damage_Dealt</th>\n",
       "      <th>Headshots</th>\n",
       "      <th>Wins</th>\n",
       "      <th>Top_10s</th>\n",
       "      <th>Revives</th>\n",
       "      <th>Distance_Traveled</th>\n",
       "      <th>Weapons_Used</th>\n",
       "      <th>Time_Survived</th>\n",
       "      <th>Rank</th>\n",
       "    </tr>\n",
       "  </thead>\n",
       "  <tbody>\n",
       "    <tr>\n",
       "      <th>216</th>\n",
       "      <td>216</td>\n",
       "      <td>CrimsonRider</td>\n",
       "      <td>294</td>\n",
       "      <td>743</td>\n",
       "      <td>187</td>\n",
       "      <td>132</td>\n",
       "      <td>17567</td>\n",
       "      <td>242</td>\n",
       "      <td>39</td>\n",
       "      <td>133</td>\n",
       "      <td>67</td>\n",
       "      <td>66987</td>\n",
       "      <td>13</td>\n",
       "      <td>28345</td>\n",
       "      <td>Diamond</td>\n",
       "    </tr>\n",
       "    <tr>\n",
       "      <th>217</th>\n",
       "      <td>217</td>\n",
       "      <td>BlazingSorcerer</td>\n",
       "      <td>203</td>\n",
       "      <td>521</td>\n",
       "      <td>109</td>\n",
       "      <td>72</td>\n",
       "      <td>13123</td>\n",
       "      <td>193</td>\n",
       "      <td>27</td>\n",
       "      <td>91</td>\n",
       "      <td>45</td>\n",
       "      <td>55487</td>\n",
       "      <td>10</td>\n",
       "      <td>23267</td>\n",
       "      <td>Gold</td>\n",
       "    </tr>\n",
       "    <tr>\n",
       "      <th>218</th>\n",
       "      <td>218</td>\n",
       "      <td>FrozenFlare</td>\n",
       "      <td>206</td>\n",
       "      <td>553</td>\n",
       "      <td>117</td>\n",
       "      <td>76</td>\n",
       "      <td>13756</td>\n",
       "      <td>196</td>\n",
       "      <td>29</td>\n",
       "      <td>96</td>\n",
       "      <td>49</td>\n",
       "      <td>58789</td>\n",
       "      <td>10</td>\n",
       "      <td>24579</td>\n",
       "      <td>Platinum</td>\n",
       "    </tr>\n",
       "    <tr>\n",
       "      <th>219</th>\n",
       "      <td>219</td>\n",
       "      <td>AbyssGuardian</td>\n",
       "      <td>220</td>\n",
       "      <td>597</td>\n",
       "      <td>144</td>\n",
       "      <td>98</td>\n",
       "      <td>14967</td>\n",
       "      <td>212</td>\n",
       "      <td>32</td>\n",
       "      <td>108</td>\n",
       "      <td>54</td>\n",
       "      <td>60978</td>\n",
       "      <td>11</td>\n",
       "      <td>25679</td>\n",
       "      <td>Platinum</td>\n",
       "    </tr>\n",
       "    <tr>\n",
       "      <th>220</th>\n",
       "      <td>220</td>\n",
       "      <td>SpectralPhantom</td>\n",
       "      <td>225</td>\n",
       "      <td>624</td>\n",
       "      <td>149</td>\n",
       "      <td>100</td>\n",
       "      <td>15345</td>\n",
       "      <td>219</td>\n",
       "      <td>33</td>\n",
       "      <td>110</td>\n",
       "      <td>55</td>\n",
       "      <td>61789</td>\n",
       "      <td>11</td>\n",
       "      <td>25967</td>\n",
       "      <td>Platinum</td>\n",
       "    </tr>\n",
       "  </tbody>\n",
       "</table>\n",
       "</div>"
      ],
      "text/plain": [
       "     Unnamed: 0      Player_Name  Matches_Played  Kills  Deaths  Assists  \\\n",
       "216         216     CrimsonRider             294    743     187      132   \n",
       "217         217  BlazingSorcerer             203    521     109       72   \n",
       "218         218      FrozenFlare             206    553     117       76   \n",
       "219         219    AbyssGuardian             220    597     144       98   \n",
       "220         220  SpectralPhantom             225    624     149      100   \n",
       "\n",
       "     Damage_Dealt  Headshots  Wins  Top_10s  Revives  Distance_Traveled  \\\n",
       "216         17567        242    39      133       67              66987   \n",
       "217         13123        193    27       91       45              55487   \n",
       "218         13756        196    29       96       49              58789   \n",
       "219         14967        212    32      108       54              60978   \n",
       "220         15345        219    33      110       55              61789   \n",
       "\n",
       "     Weapons_Used  Time_Survived      Rank  \n",
       "216            13          28345   Diamond  \n",
       "217            10          23267      Gold  \n",
       "218            10          24579  Platinum  \n",
       "219            11          25679  Platinum  \n",
       "220            11          25967  Platinum  "
      ]
     },
     "execution_count": 7,
     "metadata": {},
     "output_type": "execute_result"
    }
   ],
   "source": [
    "df.tail()"
   ]
  },
  {
   "cell_type": "code",
   "execution_count": null,
   "id": "e83c7542",
   "metadata": {},
   "outputs": [],
   "source": []
  },
  {
   "cell_type": "code",
   "execution_count": 8,
   "id": "530d2155",
   "metadata": {},
   "outputs": [
    {
     "data": {
      "text/plain": [
       "(221, 15)"
      ]
     },
     "execution_count": 8,
     "metadata": {},
     "output_type": "execute_result"
    }
   ],
   "source": [
    "df.shape"
   ]
  },
  {
   "cell_type": "code",
   "execution_count": null,
   "id": "4ee7961f",
   "metadata": {},
   "outputs": [],
   "source": []
  },
  {
   "cell_type": "code",
   "execution_count": 9,
   "id": "0734419d",
   "metadata": {},
   "outputs": [
    {
     "data": {
      "text/plain": [
       "Index(['Unnamed: 0', 'Player_Name', 'Matches_Played', 'Kills', 'Deaths',\n",
       "       'Assists', 'Damage_Dealt', 'Headshots', 'Wins', 'Top_10s', 'Revives',\n",
       "       'Distance_Traveled', 'Weapons_Used', 'Time_Survived', 'Rank'],\n",
       "      dtype='object')"
      ]
     },
     "execution_count": 9,
     "metadata": {},
     "output_type": "execute_result"
    }
   ],
   "source": [
    "df.columns"
   ]
  },
  {
   "cell_type": "code",
   "execution_count": null,
   "id": "6b05e6c9",
   "metadata": {},
   "outputs": [],
   "source": []
  },
  {
   "cell_type": "code",
   "execution_count": 10,
   "id": "5a8c48af",
   "metadata": {},
   "outputs": [
    {
     "data": {
      "text/plain": [
       "Unnamed: 0            int64\n",
       "Player_Name          object\n",
       "Matches_Played        int64\n",
       "Kills                 int64\n",
       "Deaths                int64\n",
       "Assists               int64\n",
       "Damage_Dealt          int64\n",
       "Headshots             int64\n",
       "Wins                  int64\n",
       "Top_10s               int64\n",
       "Revives               int64\n",
       "Distance_Traveled     int64\n",
       "Weapons_Used          int64\n",
       "Time_Survived         int64\n",
       "Rank                 object\n",
       "dtype: object"
      ]
     },
     "execution_count": 10,
     "metadata": {},
     "output_type": "execute_result"
    }
   ],
   "source": [
    "df.dtypes"
   ]
  },
  {
   "cell_type": "code",
   "execution_count": null,
   "id": "1ff19f91",
   "metadata": {},
   "outputs": [],
   "source": []
  },
  {
   "cell_type": "code",
   "execution_count": 18,
   "id": "c16f1746",
   "metadata": {},
   "outputs": [
    {
     "data": {
      "text/plain": [
       "Platinum    False\n",
       "Diamond     False\n",
       "Gold        False\n",
       "Silver      False\n",
       "Name: Rank, dtype: bool"
      ]
     },
     "execution_count": 18,
     "metadata": {},
     "output_type": "execute_result"
    }
   ],
   "source": [
    "df[\"Rank\"].value_counts().isnull()"
   ]
  },
  {
   "cell_type": "code",
   "execution_count": null,
   "id": "a150e30f",
   "metadata": {},
   "outputs": [],
   "source": []
  },
  {
   "cell_type": "code",
   "execution_count": 21,
   "id": "2cef8ed7",
   "metadata": {},
   "outputs": [
    {
     "data": {
      "text/plain": [
       "array(['StealthMaster', 'SniperLion', 'NinjaGamer', 'ThunderStrike',\n",
       "       'SpeedDemon', 'BlazeFury', 'RapidShadow', 'Frostbite',\n",
       "       'SavageQueen', 'SwiftStriker', 'VenomousViper', 'PhoenixFury',\n",
       "       'SteelStorm', 'BlazingBlade', 'StormChaser', 'Nightmare',\n",
       "       'CrimsonTide', 'SilentShadow', 'VengefulViper', 'SolarFlare',\n",
       "       'SkyDancer', 'RogueWraith', 'LethalLynx', 'FrostFang',\n",
       "       'ScarletStrider', 'RagingRaptor', 'ShadowWisp', 'VenomStrike',\n",
       "       'FireFury', 'BlazingSun', 'ShadowStrike', 'SteelGuardian',\n",
       "       'WickedWitch', 'RuthlessRaptor', 'FrostyFox', 'ViperVenom',\n",
       "       'CrimsonReaper', 'PhantomGhost', 'StormStrider', 'StormBreaker',\n",
       "       'SapphireSword', 'ShadowReign', 'DragonSlayer', 'SilverShadow',\n",
       "       'EagleEye', 'BlazingStorm', 'MidnightSage', 'RapidBlaze',\n",
       "       'FrostFire', 'ScarletWitch', 'RagingTiger', 'SpectralRogue',\n",
       "       'BlazingRaptor', 'EternalShadow', 'WickedStrider', 'CrimsonStorm',\n",
       "       'RuthlessReaper', 'FrostFury', 'ShadowBlade', 'RapidPhantom',\n",
       "       'ViperStrike', 'EternalBlaze', 'Vengeance', 'LunarShadow',\n",
       "       'Deathstrike', 'AzureBlade', 'RavenHeart', 'SerpentFury',\n",
       "       'CrimsonRogue', 'VoidSeeker', 'AstralSword', 'FrozenFlame',\n",
       "       'TwilightWarden', 'ShadowPhoenix', 'PhantomStrider', 'EternalFire',\n",
       "       'NebulaBlade', 'SilverHawk', 'SolarSword', 'EclipseShadow',\n",
       "       'StarBlade', 'LethalWraith', 'RadiantBlaze', 'FrostGuardian',\n",
       "       'MysticSerpent', 'InfernoStorm', 'BlazeRanger', 'RagingFire',\n",
       "       'ShadowDancer', 'PhoenixWings', 'IceStorm', 'MoonlitSorcerer',\n",
       "       'DarkReaper', 'CosmicGhost', 'StormRider', 'FlareRogue',\n",
       "       'RadiantBlade', 'TempestPhantom', 'SapphireViper', 'EternalFlame',\n",
       "       'StarlightBlade', 'CrimsonRider', 'BlazingSorcerer', 'FrozenFlare',\n",
       "       'AbyssGuardian', 'SpectralPhantom'], dtype=object)"
      ]
     },
     "execution_count": 21,
     "metadata": {},
     "output_type": "execute_result"
    }
   ],
   "source": [
    "df[\"Player_Name\"].unique()"
   ]
  },
  {
   "cell_type": "code",
   "execution_count": null,
   "id": "5770a37e",
   "metadata": {},
   "outputs": [],
   "source": []
  },
  {
   "cell_type": "code",
   "execution_count": 22,
   "id": "a37be71b",
   "metadata": {},
   "outputs": [
    {
     "data": {
      "text/plain": [
       "106"
      ]
     },
     "execution_count": 22,
     "metadata": {},
     "output_type": "execute_result"
    }
   ],
   "source": [
    "df[\"Player_Name\"].nunique()"
   ]
  },
  {
   "cell_type": "code",
   "execution_count": null,
   "id": "c8d91560",
   "metadata": {},
   "outputs": [],
   "source": []
  },
  {
   "cell_type": "code",
   "execution_count": 25,
   "id": "e85236f8",
   "metadata": {},
   "outputs": [
    {
     "data": {
      "text/plain": [
       "Unnamed: 0           221\n",
       "Player_Name          106\n",
       "Matches_Played        70\n",
       "Kills                 90\n",
       "Deaths                82\n",
       "Assists               65\n",
       "Damage_Dealt         102\n",
       "Headshots             70\n",
       "Wins                  28\n",
       "Top_10s               59\n",
       "Revives               39\n",
       "Distance_Traveled    105\n",
       "Weapons_Used           9\n",
       "Time_Survived        107\n",
       "Rank                   4\n",
       "dtype: int64"
      ]
     },
     "execution_count": 25,
     "metadata": {},
     "output_type": "execute_result"
    }
   ],
   "source": [
    "df.nunique()"
   ]
  },
  {
   "cell_type": "code",
   "execution_count": null,
   "id": "0a1caf13",
   "metadata": {},
   "outputs": [],
   "source": []
  },
  {
   "cell_type": "code",
   "execution_count": 26,
   "id": "386f2a54",
   "metadata": {},
   "outputs": [
    {
     "data": {
      "text/html": [
       "<div>\n",
       "<style scoped>\n",
       "    .dataframe tbody tr th:only-of-type {\n",
       "        vertical-align: middle;\n",
       "    }\n",
       "\n",
       "    .dataframe tbody tr th {\n",
       "        vertical-align: top;\n",
       "    }\n",
       "\n",
       "    .dataframe thead th {\n",
       "        text-align: right;\n",
       "    }\n",
       "</style>\n",
       "<table border=\"1\" class=\"dataframe\">\n",
       "  <thead>\n",
       "    <tr style=\"text-align: right;\">\n",
       "      <th></th>\n",
       "      <th>Unnamed: 0</th>\n",
       "      <th>Matches_Played</th>\n",
       "      <th>Kills</th>\n",
       "      <th>Deaths</th>\n",
       "      <th>Assists</th>\n",
       "      <th>Damage_Dealt</th>\n",
       "      <th>Headshots</th>\n",
       "      <th>Wins</th>\n",
       "      <th>Top_10s</th>\n",
       "      <th>Revives</th>\n",
       "      <th>Distance_Traveled</th>\n",
       "      <th>Weapons_Used</th>\n",
       "      <th>Time_Survived</th>\n",
       "    </tr>\n",
       "  </thead>\n",
       "  <tbody>\n",
       "    <tr>\n",
       "      <th>count</th>\n",
       "      <td>221.000000</td>\n",
       "      <td>221.000000</td>\n",
       "      <td>221.000000</td>\n",
       "      <td>221.000000</td>\n",
       "      <td>221.000000</td>\n",
       "      <td>221.000000</td>\n",
       "      <td>221.000000</td>\n",
       "      <td>221.000000</td>\n",
       "      <td>221.000000</td>\n",
       "      <td>221.000000</td>\n",
       "      <td>221.000000</td>\n",
       "      <td>221.000000</td>\n",
       "      <td>221.000000</td>\n",
       "    </tr>\n",
       "    <tr>\n",
       "      <th>mean</th>\n",
       "      <td>110.000000</td>\n",
       "      <td>234.624434</td>\n",
       "      <td>612.674208</td>\n",
       "      <td>142.579186</td>\n",
       "      <td>92.615385</td>\n",
       "      <td>14801.004525</td>\n",
       "      <td>207.361991</td>\n",
       "      <td>31.895928</td>\n",
       "      <td>110.357466</td>\n",
       "      <td>54.330317</td>\n",
       "      <td>61449.316742</td>\n",
       "      <td>10.859729</td>\n",
       "      <td>25444.420814</td>\n",
       "    </tr>\n",
       "    <tr>\n",
       "      <th>std</th>\n",
       "      <td>63.941379</td>\n",
       "      <td>37.178429</td>\n",
       "      <td>89.311216</td>\n",
       "      <td>32.882564</td>\n",
       "      <td>21.423045</td>\n",
       "      <td>1902.947975</td>\n",
       "      <td>29.775909</td>\n",
       "      <td>5.806190</td>\n",
       "      <td>23.794648</td>\n",
       "      <td>10.436145</td>\n",
       "      <td>5775.529199</td>\n",
       "      <td>1.318835</td>\n",
       "      <td>2699.278875</td>\n",
       "    </tr>\n",
       "    <tr>\n",
       "      <th>min</th>\n",
       "      <td>0.000000</td>\n",
       "      <td>143.000000</td>\n",
       "      <td>368.000000</td>\n",
       "      <td>68.000000</td>\n",
       "      <td>42.000000</td>\n",
       "      <td>9865.000000</td>\n",
       "      <td>123.000000</td>\n",
       "      <td>18.000000</td>\n",
       "      <td>67.000000</td>\n",
       "      <td>32.000000</td>\n",
       "      <td>49785.000000</td>\n",
       "      <td>8.000000</td>\n",
       "      <td>16834.000000</td>\n",
       "    </tr>\n",
       "    <tr>\n",
       "      <th>25%</th>\n",
       "      <td>55.000000</td>\n",
       "      <td>206.000000</td>\n",
       "      <td>543.000000</td>\n",
       "      <td>117.000000</td>\n",
       "      <td>76.000000</td>\n",
       "      <td>13589.000000</td>\n",
       "      <td>193.000000</td>\n",
       "      <td>28.000000</td>\n",
       "      <td>97.000000</td>\n",
       "      <td>48.000000</td>\n",
       "      <td>57856.000000</td>\n",
       "      <td>10.000000</td>\n",
       "      <td>23879.000000</td>\n",
       "    </tr>\n",
       "    <tr>\n",
       "      <th>50%</th>\n",
       "      <td>110.000000</td>\n",
       "      <td>224.000000</td>\n",
       "      <td>604.000000</td>\n",
       "      <td>138.000000</td>\n",
       "      <td>92.000000</td>\n",
       "      <td>14894.000000</td>\n",
       "      <td>210.000000</td>\n",
       "      <td>32.000000</td>\n",
       "      <td>108.000000</td>\n",
       "      <td>54.000000</td>\n",
       "      <td>60986.000000</td>\n",
       "      <td>11.000000</td>\n",
       "      <td>25467.000000</td>\n",
       "    </tr>\n",
       "    <tr>\n",
       "      <th>75%</th>\n",
       "      <td>165.000000</td>\n",
       "      <td>257.000000</td>\n",
       "      <td>674.000000</td>\n",
       "      <td>167.000000</td>\n",
       "      <td>111.000000</td>\n",
       "      <td>15987.000000</td>\n",
       "      <td>226.000000</td>\n",
       "      <td>36.000000</td>\n",
       "      <td>125.000000</td>\n",
       "      <td>60.000000</td>\n",
       "      <td>64279.000000</td>\n",
       "      <td>12.000000</td>\n",
       "      <td>26987.000000</td>\n",
       "    </tr>\n",
       "    <tr>\n",
       "      <th>max</th>\n",
       "      <td>220.000000</td>\n",
       "      <td>409.000000</td>\n",
       "      <td>923.000000</td>\n",
       "      <td>267.000000</td>\n",
       "      <td>139.000000</td>\n",
       "      <td>21037.000000</td>\n",
       "      <td>312.000000</td>\n",
       "      <td>55.000000</td>\n",
       "      <td>258.000000</td>\n",
       "      <td>128.000000</td>\n",
       "      <td>98234.000000</td>\n",
       "      <td>18.000000</td>\n",
       "      <td>40128.000000</td>\n",
       "    </tr>\n",
       "  </tbody>\n",
       "</table>\n",
       "</div>"
      ],
      "text/plain": [
       "       Unnamed: 0  Matches_Played       Kills      Deaths     Assists  \\\n",
       "count  221.000000      221.000000  221.000000  221.000000  221.000000   \n",
       "mean   110.000000      234.624434  612.674208  142.579186   92.615385   \n",
       "std     63.941379       37.178429   89.311216   32.882564   21.423045   \n",
       "min      0.000000      143.000000  368.000000   68.000000   42.000000   \n",
       "25%     55.000000      206.000000  543.000000  117.000000   76.000000   \n",
       "50%    110.000000      224.000000  604.000000  138.000000   92.000000   \n",
       "75%    165.000000      257.000000  674.000000  167.000000  111.000000   \n",
       "max    220.000000      409.000000  923.000000  267.000000  139.000000   \n",
       "\n",
       "       Damage_Dealt   Headshots        Wins     Top_10s     Revives  \\\n",
       "count    221.000000  221.000000  221.000000  221.000000  221.000000   \n",
       "mean   14801.004525  207.361991   31.895928  110.357466   54.330317   \n",
       "std     1902.947975   29.775909    5.806190   23.794648   10.436145   \n",
       "min     9865.000000  123.000000   18.000000   67.000000   32.000000   \n",
       "25%    13589.000000  193.000000   28.000000   97.000000   48.000000   \n",
       "50%    14894.000000  210.000000   32.000000  108.000000   54.000000   \n",
       "75%    15987.000000  226.000000   36.000000  125.000000   60.000000   \n",
       "max    21037.000000  312.000000   55.000000  258.000000  128.000000   \n",
       "\n",
       "       Distance_Traveled  Weapons_Used  Time_Survived  \n",
       "count         221.000000    221.000000     221.000000  \n",
       "mean        61449.316742     10.859729   25444.420814  \n",
       "std          5775.529199      1.318835    2699.278875  \n",
       "min         49785.000000      8.000000   16834.000000  \n",
       "25%         57856.000000     10.000000   23879.000000  \n",
       "50%         60986.000000     11.000000   25467.000000  \n",
       "75%         64279.000000     12.000000   26987.000000  \n",
       "max         98234.000000     18.000000   40128.000000  "
      ]
     },
     "execution_count": 26,
     "metadata": {},
     "output_type": "execute_result"
    }
   ],
   "source": [
    "df.describe()"
   ]
  },
  {
   "cell_type": "code",
   "execution_count": null,
   "id": "3ee8f561",
   "metadata": {},
   "outputs": [],
   "source": []
  },
  {
   "cell_type": "code",
   "execution_count": 28,
   "id": "681499a1",
   "metadata": {},
   "outputs": [
    {
     "data": {
      "text/plain": [
       "VengefulViper      7\n",
       "Frostbite          5\n",
       "VenomousViper      5\n",
       "LethalLynx         4\n",
       "Nightmare          4\n",
       "                  ..\n",
       "MidnightSage       1\n",
       "BlazingStorm       1\n",
       "EagleEye           1\n",
       "SilverShadow       1\n",
       "SpectralPhantom    1\n",
       "Name: Player_Name, Length: 106, dtype: int64"
      ]
     },
     "execution_count": 28,
     "metadata": {},
     "output_type": "execute_result"
    }
   ],
   "source": [
    "df[\"Player_Name\"].value_counts()"
   ]
  },
  {
   "cell_type": "code",
   "execution_count": null,
   "id": "77b6b2f1",
   "metadata": {},
   "outputs": [],
   "source": []
  },
  {
   "cell_type": "code",
   "execution_count": 29,
   "id": "bfe5e4c8",
   "metadata": {},
   "outputs": [
    {
     "data": {
      "text/html": [
       "<div>\n",
       "<style scoped>\n",
       "    .dataframe tbody tr th:only-of-type {\n",
       "        vertical-align: middle;\n",
       "    }\n",
       "\n",
       "    .dataframe tbody tr th {\n",
       "        vertical-align: top;\n",
       "    }\n",
       "\n",
       "    .dataframe thead th {\n",
       "        text-align: right;\n",
       "    }\n",
       "</style>\n",
       "<table border=\"1\" class=\"dataframe\">\n",
       "  <thead>\n",
       "    <tr style=\"text-align: right;\">\n",
       "      <th></th>\n",
       "      <th>Unnamed: 0</th>\n",
       "      <th>Player_Name</th>\n",
       "      <th>Matches_Played</th>\n",
       "      <th>Kills</th>\n",
       "      <th>Deaths</th>\n",
       "      <th>Assists</th>\n",
       "      <th>Damage_Dealt</th>\n",
       "      <th>Headshots</th>\n",
       "      <th>Wins</th>\n",
       "      <th>Top_10s</th>\n",
       "      <th>Revives</th>\n",
       "      <th>Distance_Traveled</th>\n",
       "      <th>Weapons_Used</th>\n",
       "      <th>Time_Survived</th>\n",
       "      <th>Rank</th>\n",
       "    </tr>\n",
       "  </thead>\n",
       "  <tbody>\n",
       "    <tr>\n",
       "      <th>0</th>\n",
       "      <td>False</td>\n",
       "      <td>False</td>\n",
       "      <td>False</td>\n",
       "      <td>False</td>\n",
       "      <td>False</td>\n",
       "      <td>False</td>\n",
       "      <td>False</td>\n",
       "      <td>False</td>\n",
       "      <td>False</td>\n",
       "      <td>False</td>\n",
       "      <td>False</td>\n",
       "      <td>False</td>\n",
       "      <td>False</td>\n",
       "      <td>False</td>\n",
       "      <td>False</td>\n",
       "    </tr>\n",
       "    <tr>\n",
       "      <th>1</th>\n",
       "      <td>False</td>\n",
       "      <td>False</td>\n",
       "      <td>False</td>\n",
       "      <td>False</td>\n",
       "      <td>False</td>\n",
       "      <td>False</td>\n",
       "      <td>False</td>\n",
       "      <td>False</td>\n",
       "      <td>False</td>\n",
       "      <td>False</td>\n",
       "      <td>False</td>\n",
       "      <td>False</td>\n",
       "      <td>False</td>\n",
       "      <td>False</td>\n",
       "      <td>False</td>\n",
       "    </tr>\n",
       "    <tr>\n",
       "      <th>2</th>\n",
       "      <td>False</td>\n",
       "      <td>False</td>\n",
       "      <td>False</td>\n",
       "      <td>False</td>\n",
       "      <td>False</td>\n",
       "      <td>False</td>\n",
       "      <td>False</td>\n",
       "      <td>False</td>\n",
       "      <td>False</td>\n",
       "      <td>False</td>\n",
       "      <td>False</td>\n",
       "      <td>False</td>\n",
       "      <td>False</td>\n",
       "      <td>False</td>\n",
       "      <td>False</td>\n",
       "    </tr>\n",
       "    <tr>\n",
       "      <th>3</th>\n",
       "      <td>False</td>\n",
       "      <td>False</td>\n",
       "      <td>False</td>\n",
       "      <td>False</td>\n",
       "      <td>False</td>\n",
       "      <td>False</td>\n",
       "      <td>False</td>\n",
       "      <td>False</td>\n",
       "      <td>False</td>\n",
       "      <td>False</td>\n",
       "      <td>False</td>\n",
       "      <td>False</td>\n",
       "      <td>False</td>\n",
       "      <td>False</td>\n",
       "      <td>False</td>\n",
       "    </tr>\n",
       "    <tr>\n",
       "      <th>4</th>\n",
       "      <td>False</td>\n",
       "      <td>False</td>\n",
       "      <td>False</td>\n",
       "      <td>False</td>\n",
       "      <td>False</td>\n",
       "      <td>False</td>\n",
       "      <td>False</td>\n",
       "      <td>False</td>\n",
       "      <td>False</td>\n",
       "      <td>False</td>\n",
       "      <td>False</td>\n",
       "      <td>False</td>\n",
       "      <td>False</td>\n",
       "      <td>False</td>\n",
       "      <td>False</td>\n",
       "    </tr>\n",
       "    <tr>\n",
       "      <th>...</th>\n",
       "      <td>...</td>\n",
       "      <td>...</td>\n",
       "      <td>...</td>\n",
       "      <td>...</td>\n",
       "      <td>...</td>\n",
       "      <td>...</td>\n",
       "      <td>...</td>\n",
       "      <td>...</td>\n",
       "      <td>...</td>\n",
       "      <td>...</td>\n",
       "      <td>...</td>\n",
       "      <td>...</td>\n",
       "      <td>...</td>\n",
       "      <td>...</td>\n",
       "      <td>...</td>\n",
       "    </tr>\n",
       "    <tr>\n",
       "      <th>216</th>\n",
       "      <td>False</td>\n",
       "      <td>False</td>\n",
       "      <td>False</td>\n",
       "      <td>False</td>\n",
       "      <td>False</td>\n",
       "      <td>False</td>\n",
       "      <td>False</td>\n",
       "      <td>False</td>\n",
       "      <td>False</td>\n",
       "      <td>False</td>\n",
       "      <td>False</td>\n",
       "      <td>False</td>\n",
       "      <td>False</td>\n",
       "      <td>False</td>\n",
       "      <td>False</td>\n",
       "    </tr>\n",
       "    <tr>\n",
       "      <th>217</th>\n",
       "      <td>False</td>\n",
       "      <td>False</td>\n",
       "      <td>False</td>\n",
       "      <td>False</td>\n",
       "      <td>False</td>\n",
       "      <td>False</td>\n",
       "      <td>False</td>\n",
       "      <td>False</td>\n",
       "      <td>False</td>\n",
       "      <td>False</td>\n",
       "      <td>False</td>\n",
       "      <td>False</td>\n",
       "      <td>False</td>\n",
       "      <td>False</td>\n",
       "      <td>False</td>\n",
       "    </tr>\n",
       "    <tr>\n",
       "      <th>218</th>\n",
       "      <td>False</td>\n",
       "      <td>False</td>\n",
       "      <td>False</td>\n",
       "      <td>False</td>\n",
       "      <td>False</td>\n",
       "      <td>False</td>\n",
       "      <td>False</td>\n",
       "      <td>False</td>\n",
       "      <td>False</td>\n",
       "      <td>False</td>\n",
       "      <td>False</td>\n",
       "      <td>False</td>\n",
       "      <td>False</td>\n",
       "      <td>False</td>\n",
       "      <td>False</td>\n",
       "    </tr>\n",
       "    <tr>\n",
       "      <th>219</th>\n",
       "      <td>False</td>\n",
       "      <td>False</td>\n",
       "      <td>False</td>\n",
       "      <td>False</td>\n",
       "      <td>False</td>\n",
       "      <td>False</td>\n",
       "      <td>False</td>\n",
       "      <td>False</td>\n",
       "      <td>False</td>\n",
       "      <td>False</td>\n",
       "      <td>False</td>\n",
       "      <td>False</td>\n",
       "      <td>False</td>\n",
       "      <td>False</td>\n",
       "      <td>False</td>\n",
       "    </tr>\n",
       "    <tr>\n",
       "      <th>220</th>\n",
       "      <td>False</td>\n",
       "      <td>False</td>\n",
       "      <td>False</td>\n",
       "      <td>False</td>\n",
       "      <td>False</td>\n",
       "      <td>False</td>\n",
       "      <td>False</td>\n",
       "      <td>False</td>\n",
       "      <td>False</td>\n",
       "      <td>False</td>\n",
       "      <td>False</td>\n",
       "      <td>False</td>\n",
       "      <td>False</td>\n",
       "      <td>False</td>\n",
       "      <td>False</td>\n",
       "    </tr>\n",
       "  </tbody>\n",
       "</table>\n",
       "<p>221 rows × 15 columns</p>\n",
       "</div>"
      ],
      "text/plain": [
       "     Unnamed: 0  Player_Name  Matches_Played  Kills  Deaths  Assists  \\\n",
       "0         False        False           False  False   False    False   \n",
       "1         False        False           False  False   False    False   \n",
       "2         False        False           False  False   False    False   \n",
       "3         False        False           False  False   False    False   \n",
       "4         False        False           False  False   False    False   \n",
       "..          ...          ...             ...    ...     ...      ...   \n",
       "216       False        False           False  False   False    False   \n",
       "217       False        False           False  False   False    False   \n",
       "218       False        False           False  False   False    False   \n",
       "219       False        False           False  False   False    False   \n",
       "220       False        False           False  False   False    False   \n",
       "\n",
       "     Damage_Dealt  Headshots   Wins  Top_10s  Revives  Distance_Traveled  \\\n",
       "0           False      False  False    False    False              False   \n",
       "1           False      False  False    False    False              False   \n",
       "2           False      False  False    False    False              False   \n",
       "3           False      False  False    False    False              False   \n",
       "4           False      False  False    False    False              False   \n",
       "..            ...        ...    ...      ...      ...                ...   \n",
       "216         False      False  False    False    False              False   \n",
       "217         False      False  False    False    False              False   \n",
       "218         False      False  False    False    False              False   \n",
       "219         False      False  False    False    False              False   \n",
       "220         False      False  False    False    False              False   \n",
       "\n",
       "     Weapons_Used  Time_Survived   Rank  \n",
       "0           False          False  False  \n",
       "1           False          False  False  \n",
       "2           False          False  False  \n",
       "3           False          False  False  \n",
       "4           False          False  False  \n",
       "..            ...            ...    ...  \n",
       "216         False          False  False  \n",
       "217         False          False  False  \n",
       "218         False          False  False  \n",
       "219         False          False  False  \n",
       "220         False          False  False  \n",
       "\n",
       "[221 rows x 15 columns]"
      ]
     },
     "execution_count": 29,
     "metadata": {},
     "output_type": "execute_result"
    }
   ],
   "source": [
    "df.isnull()"
   ]
  },
  {
   "cell_type": "code",
   "execution_count": null,
   "id": "72f7c59a",
   "metadata": {},
   "outputs": [],
   "source": []
  },
  {
   "cell_type": "code",
   "execution_count": 31,
   "id": "a09b6b14",
   "metadata": {},
   "outputs": [
    {
     "data": {
      "image/png": "[encoded data removed]",
      "text/plain": [
       "<Figure size 640x480 with 2 Axes>"
      ]
     },
     "metadata": {},
     "output_type": "display_data"
    }
   ],
   "source": [
    "sns.heatmap(df.isnull())\n",
    "plt.show()"
   ]
  },
  {
   "cell_type": "code",
   "execution_count": null,
   "id": "d79635ab",
   "metadata": {},
   "outputs": [],
   "source": []
  },
  {
   "cell_type": "code",
   "execution_count": 33,
   "id": "72d3e97c",
   "metadata": {},
   "outputs": [
    {
     "data": {
      "text/plain": [
       "Unnamed: 0           0\n",
       "Player_Name          0\n",
       "Matches_Played       0\n",
       "Kills                0\n",
       "Deaths               0\n",
       "Assists              0\n",
       "Damage_Dealt         0\n",
       "Headshots            0\n",
       "Wins                 0\n",
       "Top_10s              0\n",
       "Revives              0\n",
       "Distance_Traveled    0\n",
       "Weapons_Used         0\n",
       "Time_Survived        0\n",
       "Rank                 0\n",
       "dtype: int64"
      ]
     },
     "execution_count": 33,
     "metadata": {},
     "output_type": "execute_result"
    }
   ],
   "source": [
    "df.isna().sum()"
   ]
  },
  {
   "cell_type": "code",
   "execution_count": null,
   "id": "3615fdd9",
   "metadata": {},
   "outputs": [],
   "source": []
  },
  {
   "cell_type": "code",
   "execution_count": 34,
   "id": "631a9a6e",
   "metadata": {},
   "outputs": [],
   "source": [
    "df.drop([\"Unnamed: 0\"],axis=1,inplace=True)"
   ]
  },
  {
   "cell_type": "code",
   "execution_count": 36,
   "id": "0ebfe22e",
   "metadata": {},
   "outputs": [
    {
     "data": {
      "text/html": [
       "<div>\n",
       "<style scoped>\n",
       "    .dataframe tbody tr th:only-of-type {\n",
       "        vertical-align: middle;\n",
       "    }\n",
       "\n",
       "    .dataframe tbody tr th {\n",
       "        vertical-align: top;\n",
       "    }\n",
       "\n",
       "    .dataframe thead th {\n",
       "        text-align: right;\n",
       "    }\n",
       "</style>\n",
       "<table border=\"1\" class=\"dataframe\">\n",
       "  <thead>\n",
       "    <tr style=\"text-align: right;\">\n",
       "      <th></th>\n",
       "      <th>Player_Name</th>\n",
       "      <th>Matches_Played</th>\n",
       "      <th>Kills</th>\n",
       "      <th>Deaths</th>\n",
       "      <th>Assists</th>\n",
       "      <th>Damage_Dealt</th>\n",
       "      <th>Headshots</th>\n",
       "      <th>Wins</th>\n",
       "      <th>Top_10s</th>\n",
       "      <th>Revives</th>\n",
       "      <th>Distance_Traveled</th>\n",
       "      <th>Weapons_Used</th>\n",
       "      <th>Time_Survived</th>\n",
       "      <th>Rank</th>\n",
       "    </tr>\n",
       "  </thead>\n",
       "  <tbody>\n",
       "    <tr>\n",
       "      <th>0</th>\n",
       "      <td>StealthMaster</td>\n",
       "      <td>250</td>\n",
       "      <td>587</td>\n",
       "      <td>143</td>\n",
       "      <td>98</td>\n",
       "      <td>15243</td>\n",
       "      <td>234</td>\n",
       "      <td>32</td>\n",
       "      <td>145</td>\n",
       "      <td>67</td>\n",
       "      <td>72560</td>\n",
       "      <td>12</td>\n",
       "      <td>28976</td>\n",
       "      <td>Gold</td>\n",
       "    </tr>\n",
       "    <tr>\n",
       "      <th>1</th>\n",
       "      <td>SniperLion</td>\n",
       "      <td>312</td>\n",
       "      <td>823</td>\n",
       "      <td>218</td>\n",
       "      <td>112</td>\n",
       "      <td>18975</td>\n",
       "      <td>312</td>\n",
       "      <td>42</td>\n",
       "      <td>189</td>\n",
       "      <td>95</td>\n",
       "      <td>89042</td>\n",
       "      <td>15</td>\n",
       "      <td>33652</td>\n",
       "      <td>Diamond</td>\n",
       "    </tr>\n",
       "    <tr>\n",
       "      <th>2</th>\n",
       "      <td>NinjaGamer</td>\n",
       "      <td>186</td>\n",
       "      <td>492</td>\n",
       "      <td>84</td>\n",
       "      <td>56</td>\n",
       "      <td>11786</td>\n",
       "      <td>156</td>\n",
       "      <td>28</td>\n",
       "      <td>97</td>\n",
       "      <td>48</td>\n",
       "      <td>60924</td>\n",
       "      <td>10</td>\n",
       "      <td>21764</td>\n",
       "      <td>Platinum</td>\n",
       "    </tr>\n",
       "  </tbody>\n",
       "</table>\n",
       "</div>"
      ],
      "text/plain": [
       "     Player_Name  Matches_Played  Kills  Deaths  Assists  Damage_Dealt  \\\n",
       "0  StealthMaster             250    587     143       98         15243   \n",
       "1     SniperLion             312    823     218      112         18975   \n",
       "2     NinjaGamer             186    492      84       56         11786   \n",
       "\n",
       "   Headshots  Wins  Top_10s  Revives  Distance_Traveled  Weapons_Used  \\\n",
       "0        234    32      145       67              72560            12   \n",
       "1        312    42      189       95              89042            15   \n",
       "2        156    28       97       48              60924            10   \n",
       "\n",
       "   Time_Survived      Rank  \n",
       "0          28976      Gold  \n",
       "1          33652   Diamond  \n",
       "2          21764  Platinum  "
      ]
     },
     "execution_count": 36,
     "metadata": {},
     "output_type": "execute_result"
    }
   ],
   "source": [
    "df.head(3)"
   ]
  },
  {
   "cell_type": "code",
   "execution_count": null,
   "id": "6cff237d",
   "metadata": {},
   "outputs": [],
   "source": []
  },
  {
   "cell_type": "code",
   "execution_count": 37,
   "id": "d78a2057",
   "metadata": {},
   "outputs": [
    {
     "data": {
      "text/plain": [
       "<Axes: >"
      ]
     },
     "execution_count": 37,
     "metadata": {},
     "output_type": "execute_result"
    },
    {
     "data": {
      "image/png": "[encoded data removed]",
      "text/plain": [
       "<Figure size 640x480 with 1 Axes>"
      ]
     },
     "metadata": {},
     "output_type": "display_data"
    }
   ],
   "source": [
    "df[\"Rank\"].value_counts().plot(kind=\"bar\")"
   ]
  },
  {
   "cell_type": "code",
   "execution_count": null,
   "id": "f3c5a7ad",
   "metadata": {},
   "outputs": [],
   "source": []
  },
  {
   "cell_type": "markdown",
   "id": "b69bc093",
   "metadata": {},
   "source": [
    "# Top 10 Players by matches played"
   ]
  },
  {
   "cell_type": "code",
   "execution_count": 42,
   "id": "9a43ed3f",
   "metadata": {},
   "outputs": [],
   "source": [
    "px.bar(df,x=\"Player_Name\",y=\"Matches_Played\",title=\"Total \")\n",
    "plt.show()"
   ]
  },
  {
   "cell_type": "code",
   "execution_count": null,
   "id": "0fd5e007",
   "metadata": {},
   "outputs": [],
   "source": []
  },
  {
   "cell_type": "code",
   "execution_count": 48,
   "id": "fde9e61b",
   "metadata": {},
   "outputs": [
    {
     "data": {
      "text/plain": [
       "([0, 1, 2, 3, 4, 5, 6],\n",
       " [Text(0, 0, 'ThunderStrike'),\n",
       "  Text(1, 0, 'RuthlessRaptor'),\n",
       "  Text(2, 0, 'SavageQueen'),\n",
       "  Text(3, 0, 'BlazingBlade'),\n",
       "  Text(4, 0, 'SniperLion'),\n",
       "  Text(5, 0, 'BlazingRaptor'),\n",
       "  Text(6, 0, 'TempestPhantom')])"
      ]
     },
     "execution_count": 48,
     "metadata": {},
     "output_type": "execute_result"
    },
    {
     "data": {
      "image/png": "[encoded data removed]",
      "text/plain": [
       "<Figure size 1000x600 with 1 Axes>"
      ]
     },
     "metadata": {},
     "output_type": "display_data"
    }
   ],
   "source": [
    "# short the datframe by \"Matches Played\" in descending order\n",
    "dk = df.sort_values(by='Matches_Played',ascending=False)\n",
    "# dk\n",
    "\n",
    "# select the top 10 players with the highest matches played\n",
    "top_10_players = dk.head(10)\n",
    "\n",
    "# create a bar plot for the top 10 players\n",
    "plt.figure(figsize=(10,6))\n",
    "plt.bar(top_10_players[\"Player_Name\"],top_10_players[\"Matches_Played\"])\n",
    "plt.xlabel(\"Player_Name\")\n",
    "plt.ylabel(\"Matches_Played\")\n",
    "plt.title(\"Top 10 Players By Matched played\")\n",
    "plt.xticks(rotation=30)"
   ]
  },
  {
   "cell_type": "code",
   "execution_count": null,
   "id": "9f504a09",
   "metadata": {},
   "outputs": [],
   "source": []
  },
  {
   "cell_type": "code",
   "execution_count": null,
   "id": "163d0c1b",
   "metadata": {},
   "outputs": [],
   "source": []
  },
  {
   "cell_type": "markdown",
   "id": "804f68fb",
   "metadata": {},
   "source": [
    "# Top 10 players By kills"
   ]
  },
  {
   "cell_type": "code",
   "execution_count": 49,
   "id": "a56424bf",
   "metadata": {},
   "outputs": [
    {
     "data": {
      "text/plain": [
       "([0, 1, 2, 3, 4, 5, 6],\n",
       " [Text(0, 0, 'ThunderStrike'),\n",
       "  Text(1, 0, 'RuthlessRaptor'),\n",
       "  Text(2, 0, 'SniperLion'),\n",
       "  Text(3, 0, 'BlazingBlade'),\n",
       "  Text(4, 0, 'BlazingRaptor'),\n",
       "  Text(5, 0, 'SavageQueen'),\n",
       "  Text(6, 0, 'CrimsonRider')])"
      ]
     },
     "execution_count": 49,
     "metadata": {},
     "output_type": "execute_result"
    },
    {
     "data": {
      "image/png": "[encoded data removed]",
      "text/plain": [
       "<Figure size 1000x600 with 1 Axes>"
      ]
     },
     "metadata": {},
     "output_type": "display_data"
    }
   ],
   "source": [
    "# short the datframe by \"kills\" in descending order\n",
    "kill = df.sort_values(by='Kills',ascending=False)\n",
    "# dk\n",
    "\n",
    "# select the top 10 players with the highest matches played\n",
    "top_10_players_kills = kill.head(10)\n",
    "\n",
    "# create a bar plot for the top 10 players\n",
    "plt.figure(figsize=(10,6))\n",
    "plt.bar(top_10_players_kills[\"Player_Name\"],top_10_players_kills[\"Kills\"])\n",
    "plt.xlabel(\"Player_Name\")\n",
    "plt.ylabel(\"Kills\")\n",
    "plt.title(\"Top 10 Players By Kills\")\n",
    "plt.xticks(rotation=30)"
   ]
  },
  {
   "cell_type": "code",
   "execution_count": null,
   "id": "c26a718e",
   "metadata": {},
   "outputs": [],
   "source": []
  },
  {
   "cell_type": "markdown",
   "id": "b5403168",
   "metadata": {},
   "source": [
    "# Top 5 Players By wins"
   ]
  },
  {
   "cell_type": "code",
   "execution_count": null,
   "id": "c8ddb551",
   "metadata": {},
   "outputs": [],
   "source": []
  },
  {
   "cell_type": "code",
   "execution_count": 50,
   "id": "c9ef63e7",
   "metadata": {},
   "outputs": [
    {
     "data": {
      "text/plain": [
       "([0, 1, 2, 3, 4, 5],\n",
       " [Text(0, 0, 'ThunderStrike'),\n",
       "  Text(1, 0, 'RuthlessRaptor'),\n",
       "  Text(2, 0, 'SavageQueen'),\n",
       "  Text(3, 0, 'BlazingBlade'),\n",
       "  Text(4, 0, 'SniperLion'),\n",
       "  Text(5, 0, 'PhoenixFury')])"
      ]
     },
     "execution_count": 50,
     "metadata": {},
     "output_type": "execute_result"
    },
    {
     "data": {
      "image/png": "[encoded data removed]",
      "text/plain": [
       "<Figure size 1000x600 with 1 Axes>"
      ]
     },
     "metadata": {},
     "output_type": "display_data"
    }
   ],
   "source": [
    "# short the datframe by \"Wins\" in descending order\n",
    "wins = df.sort_values(by='Wins',ascending=False)\n",
    "# dk\n",
    "\n",
    "# select the top 10 players with the highest matches played\n",
    "top_10_players_wins = wins.head(10)\n",
    "\n",
    "# create a bar plot for the top 10 players\n",
    "plt.figure(figsize=(10,6))\n",
    "plt.bar(top_10_players_wins[\"Player_Name\"],top_10_players_wins[\"Wins\"])\n",
    "plt.xlabel(\"Player_Name\")\n",
    "plt.ylabel(\"Wins\")\n",
    "plt.title(\"Top 10 Players By Wins\")\n",
    "plt.xticks(rotation=30)"
   ]
  },
  {
   "cell_type": "code",
   "execution_count": null,
   "id": "16baf333",
   "metadata": {},
   "outputs": [],
   "source": []
  },
  {
   "cell_type": "code",
   "execution_count": null,
   "id": "1e646955",
   "metadata": {},
   "outputs": [],
   "source": []
  },
  {
   "cell_type": "code",
   "execution_count": 53,
   "id": "cc015b0b",
   "metadata": {},
   "outputs": [
    {
     "data": {
      "text/plain": [
       "([0, 1, 2, 3, 4, 5],\n",
       " [Text(0, 0, 'WickedWitch'),\n",
       "  Text(1, 0, 'WickedStrider'),\n",
       "  Text(2, 0, 'VoidSeeker'),\n",
       "  Text(3, 0, 'ViperVenom'),\n",
       "  Text(4, 0, 'ViperStrike'),\n",
       "  Text(5, 0, 'VenomousViper')])"
      ]
     },
     "execution_count": 53,
     "metadata": {},
     "output_type": "execute_result"
    },
    {
     "data": {
      "image/png": "[encoded data removed]",
      "text/plain": [
       "<Figure size 1000x500 with 1 Axes>"
      ]
     },
     "metadata": {},
     "output_type": "display_data"
    }
   ],
   "source": [
    "# short the datframe by \"Matches Played\" in descending order\n",
    "name = df.sort_values(by='Player_Name',ascending=False)\n",
    "# dk\n",
    "\n",
    "# select the top 10 players with the highest matches played\n",
    "top_10_players_name = name.head(10)\n",
    "\n",
    "# create a bar plot for the top 10 players\n",
    "plt.figure(figsize=(10,5))\n",
    "plt.bar(top_10_players_name[\"Player_Name\"],top_10_players_name[\"Rank\"])\n",
    "plt.xlabel(\"Player_Name\")\n",
    "plt.ylabel(\"Rank\")\n",
    "plt.title(\"Top 10 Players By Wins\")\n",
    "plt.xticks(rotation=30)"
   ]
  },
  {
   "cell_type": "code",
   "execution_count": null,
   "id": "b81cc118",
   "metadata": {},
   "outputs": [],
   "source": []
  },
  {
   "cell_type": "code",
   "execution_count": null,
   "id": "b3c28efb",
   "metadata": {},
   "outputs": [],
   "source": []
  },
  {
   "cell_type": "markdown",
   "id": "f76e449d",
   "metadata": {},
   "source": [
    "# How many times rank are published"
   ]
  },
  {
   "cell_type": "code",
   "execution_count": 65,
   "id": "c5663ba0",
   "metadata": {},
   "outputs": [
    {
     "data": {
      "text/plain": [
       "([0, 1, 2, 3],\n",
       " [Text(0, 0, 'Platinum'),\n",
       "  Text(1, 0, 'Diamond'),\n",
       "  Text(2, 0, 'Gold'),\n",
       "  Text(3, 0, 'Silver')])"
      ]
     },
     "execution_count": 65,
     "metadata": {},
     "output_type": "execute_result"
    },
    {
     "data": {
      "image/png": "[encoded data removed]",
      "text/plain": [
       "<Figure size 1000x500 with 1 Axes>"
      ]
     },
     "metadata": {},
     "output_type": "display_data"
    }
   ],
   "source": [
    "rank_count = df[\"Rank\"].value_counts().reset_index()\n",
    "rank_count\n",
    "\n",
    "rank_count.columns = [\"Rank\",\"Counts\"]\n",
    "# rank_count\n",
    "rank_count_sort_values = rank_count.sort_values(by=\"Counts\",ascending=False)\n",
    "\n",
    "plt.figure(figsize=(10,5))\n",
    "plt.bar(rank_count_sort_values[\"Rank\"],rank_count_sort_values[\"Counts\"])\n",
    "plt.xlabel(\"Rank\")\n",
    "plt.ylabel(\"Counts\")\n",
    "plt.title(\"Rank Distribution Among Players\")\n",
    "plt.xticks(rotation=30)\n"
   ]
  },
  {
   "cell_type": "code",
   "execution_count": null,
   "id": "3e802b98",
   "metadata": {},
   "outputs": [],
   "source": []
  },
  {
   "cell_type": "code",
   "execution_count": null,
   "id": "256cbf6a",
   "metadata": {},
   "outputs": [],
   "source": []
  },
  {
   "cell_type": "markdown",
   "id": "e59aa1e2",
   "metadata": {},
   "source": [
    "# How many times rank published by players Name"
   ]
  },
  {
   "cell_type": "code",
   "execution_count": 67,
   "id": "d3af3bb5",
   "metadata": {},
   "outputs": [
    {
     "data": {
      "text/html": [
       "<div>\n",
       "<style scoped>\n",
       "    .dataframe tbody tr th:only-of-type {\n",
       "        vertical-align: middle;\n",
       "    }\n",
       "\n",
       "    .dataframe tbody tr th {\n",
       "        vertical-align: top;\n",
       "    }\n",
       "\n",
       "    .dataframe thead th {\n",
       "        text-align: right;\n",
       "    }\n",
       "</style>\n",
       "<table border=\"1\" class=\"dataframe\">\n",
       "  <thead>\n",
       "    <tr style=\"text-align: right;\">\n",
       "      <th>Rank</th>\n",
       "      <th>Diamond</th>\n",
       "      <th>Gold</th>\n",
       "      <th>Platinum</th>\n",
       "      <th>Silver</th>\n",
       "    </tr>\n",
       "    <tr>\n",
       "      <th>Player_Name</th>\n",
       "      <th></th>\n",
       "      <th></th>\n",
       "      <th></th>\n",
       "      <th></th>\n",
       "    </tr>\n",
       "  </thead>\n",
       "  <tbody>\n",
       "    <tr>\n",
       "      <th>AbyssGuardian</th>\n",
       "      <td>0</td>\n",
       "      <td>0</td>\n",
       "      <td>1</td>\n",
       "      <td>0</td>\n",
       "    </tr>\n",
       "    <tr>\n",
       "      <th>AstralSword</th>\n",
       "      <td>0</td>\n",
       "      <td>0</td>\n",
       "      <td>3</td>\n",
       "      <td>0</td>\n",
       "    </tr>\n",
       "    <tr>\n",
       "      <th>AzureBlade</th>\n",
       "      <td>0</td>\n",
       "      <td>0</td>\n",
       "      <td>3</td>\n",
       "      <td>0</td>\n",
       "    </tr>\n",
       "    <tr>\n",
       "      <th>BlazeFury</th>\n",
       "      <td>0</td>\n",
       "      <td>0</td>\n",
       "      <td>1</td>\n",
       "      <td>0</td>\n",
       "    </tr>\n",
       "    <tr>\n",
       "      <th>BlazeRanger</th>\n",
       "      <td>0</td>\n",
       "      <td>0</td>\n",
       "      <td>1</td>\n",
       "      <td>0</td>\n",
       "    </tr>\n",
       "    <tr>\n",
       "      <th>BlazingBlade</th>\n",
       "      <td>4</td>\n",
       "      <td>0</td>\n",
       "      <td>0</td>\n",
       "      <td>0</td>\n",
       "    </tr>\n",
       "    <tr>\n",
       "      <th>BlazingRaptor</th>\n",
       "      <td>1</td>\n",
       "      <td>0</td>\n",
       "      <td>0</td>\n",
       "      <td>0</td>\n",
       "    </tr>\n",
       "    <tr>\n",
       "      <th>BlazingSorcerer</th>\n",
       "      <td>0</td>\n",
       "      <td>1</td>\n",
       "      <td>0</td>\n",
       "      <td>0</td>\n",
       "    </tr>\n",
       "    <tr>\n",
       "      <th>BlazingStorm</th>\n",
       "      <td>0</td>\n",
       "      <td>1</td>\n",
       "      <td>0</td>\n",
       "      <td>0</td>\n",
       "    </tr>\n",
       "    <tr>\n",
       "      <th>BlazingSun</th>\n",
       "      <td>0</td>\n",
       "      <td>0</td>\n",
       "      <td>1</td>\n",
       "      <td>0</td>\n",
       "    </tr>\n",
       "    <tr>\n",
       "      <th>CosmicGhost</th>\n",
       "      <td>0</td>\n",
       "      <td>0</td>\n",
       "      <td>1</td>\n",
       "      <td>0</td>\n",
       "    </tr>\n",
       "    <tr>\n",
       "      <th>CrimsonReaper</th>\n",
       "      <td>0</td>\n",
       "      <td>0</td>\n",
       "      <td>1</td>\n",
       "      <td>0</td>\n",
       "    </tr>\n",
       "    <tr>\n",
       "      <th>CrimsonRider</th>\n",
       "      <td>1</td>\n",
       "      <td>0</td>\n",
       "      <td>0</td>\n",
       "      <td>0</td>\n",
       "    </tr>\n",
       "    <tr>\n",
       "      <th>CrimsonRogue</th>\n",
       "      <td>0</td>\n",
       "      <td>3</td>\n",
       "      <td>0</td>\n",
       "      <td>0</td>\n",
       "    </tr>\n",
       "    <tr>\n",
       "      <th>CrimsonStorm</th>\n",
       "      <td>0</td>\n",
       "      <td>0</td>\n",
       "      <td>1</td>\n",
       "      <td>0</td>\n",
       "    </tr>\n",
       "    <tr>\n",
       "      <th>CrimsonTide</th>\n",
       "      <td>0</td>\n",
       "      <td>0</td>\n",
       "      <td>4</td>\n",
       "      <td>0</td>\n",
       "    </tr>\n",
       "    <tr>\n",
       "      <th>DarkReaper</th>\n",
       "      <td>0</td>\n",
       "      <td>1</td>\n",
       "      <td>0</td>\n",
       "      <td>0</td>\n",
       "    </tr>\n",
       "    <tr>\n",
       "      <th>Deathstrike</th>\n",
       "      <td>3</td>\n",
       "      <td>0</td>\n",
       "      <td>0</td>\n",
       "      <td>0</td>\n",
       "    </tr>\n",
       "    <tr>\n",
       "      <th>DragonSlayer</th>\n",
       "      <td>0</td>\n",
       "      <td>0</td>\n",
       "      <td>1</td>\n",
       "      <td>0</td>\n",
       "    </tr>\n",
       "    <tr>\n",
       "      <th>EagleEye</th>\n",
       "      <td>0</td>\n",
       "      <td>0</td>\n",
       "      <td>1</td>\n",
       "      <td>0</td>\n",
       "    </tr>\n",
       "  </tbody>\n",
       "</table>\n",
       "</div>"
      ],
      "text/plain": [
       "Rank             Diamond  Gold  Platinum  Silver\n",
       "Player_Name                                     \n",
       "AbyssGuardian          0     0         1       0\n",
       "AstralSword            0     0         3       0\n",
       "AzureBlade             0     0         3       0\n",
       "BlazeFury              0     0         1       0\n",
       "BlazeRanger            0     0         1       0\n",
       "BlazingBlade           4     0         0       0\n",
       "BlazingRaptor          1     0         0       0\n",
       "BlazingSorcerer        0     1         0       0\n",
       "BlazingStorm           0     1         0       0\n",
       "BlazingSun             0     0         1       0\n",
       "CosmicGhost            0     0         1       0\n",
       "CrimsonReaper          0     0         1       0\n",
       "CrimsonRider           1     0         0       0\n",
       "CrimsonRogue           0     3         0       0\n",
       "CrimsonStorm           0     0         1       0\n",
       "CrimsonTide            0     0         4       0\n",
       "DarkReaper             0     1         0       0\n",
       "Deathstrike            3     0         0       0\n",
       "DragonSlayer           0     0         1       0\n",
       "EagleEye               0     0         1       0"
      ]
     },
     "execution_count": 67,
     "metadata": {},
     "output_type": "execute_result"
    }
   ],
   "source": [
    "# Create a cross-tabulation to count how many times each rank was achieved by Players\n",
    "cross_tab = pd.crosstab(df[\"Player_Name\"],df[\"Rank\"]).head(20)\n",
    "cross_tab"
   ]
  },
  {
   "cell_type": "code",
   "execution_count": 76,
   "id": "cf6a5f61",
   "metadata": {},
   "outputs": [
    {
     "data": {
      "text/plain": [
       "(array([ 0,  1,  2,  3,  4,  5,  6,  7,  8,  9, 10, 11, 12, 13, 14, 15, 16,\n",
       "        17, 18, 19]),\n",
       " [Text(0, 0, 'AbyssGuardian'),\n",
       "  Text(1, 0, 'AstralSword'),\n",
       "  Text(2, 0, 'AzureBlade'),\n",
       "  Text(3, 0, 'BlazeFury'),\n",
       "  Text(4, 0, 'BlazeRanger'),\n",
       "  Text(5, 0, 'BlazingBlade'),\n",
       "  Text(6, 0, 'BlazingRaptor'),\n",
       "  Text(7, 0, 'BlazingSorcerer'),\n",
       "  Text(8, 0, 'BlazingStorm'),\n",
       "  Text(9, 0, 'BlazingSun'),\n",
       "  Text(10, 0, 'CosmicGhost'),\n",
       "  Text(11, 0, 'CrimsonReaper'),\n",
       "  Text(12, 0, 'CrimsonRider'),\n",
       "  Text(13, 0, 'CrimsonRogue'),\n",
       "  Text(14, 0, 'CrimsonStorm'),\n",
       "  Text(15, 0, 'CrimsonTide'),\n",
       "  Text(16, 0, 'DarkReaper'),\n",
       "  Text(17, 0, 'Deathstrike'),\n",
       "  Text(18, 0, 'DragonSlayer'),\n",
       "  Text(19, 0, 'EagleEye')])"
      ]
     },
     "execution_count": 76,
     "metadata": {},
     "output_type": "execute_result"
    },
    {
     "data": {
      "image/png": "[encoded data removed]",
      "text/plain": [
       "<Figure size 1500x800 with 1 Axes>"
      ]
     },
     "metadata": {},
     "output_type": "display_data"
    }
   ],
   "source": [
    "# Create a cross-tabulation to count how many times each rank was achieved by\n",
    "cross_tab = pd.crosstab(df[\"Player_Name\"],df[\"Rank\"]).head(20)\n",
    "\n",
    "# plot the bar chart\n",
    "cross_tab.plot(kind=\"bar\",stacked = True,figsize=(15,8))\n",
    "\n",
    "# customize the plot\n",
    "plt.xlabel(\"Player Name\")\n",
    "plt.ylabel(\"Counts\")\n",
    "plt.title(\"Rank Achievement by Players\")\n",
    "plt.xticks(rotation=30)"
   ]
  },
  {
   "cell_type": "code",
   "execution_count": null,
   "id": "34001770",
   "metadata": {},
   "outputs": [],
   "source": []
  },
  {
   "cell_type": "code",
   "execution_count": null,
   "id": "0bffcd53",
   "metadata": {},
   "outputs": [],
   "source": []
  },
  {
   "cell_type": "code",
   "execution_count": null,
   "id": "c08c995e",
   "metadata": {},
   "outputs": [],
   "source": []
  },
  {
   "cell_type": "code",
   "execution_count": null,
   "id": "cd0b4d2b",
   "metadata": {},
   "outputs": [],
   "source": []
  },
  {
   "cell_type": "code",
   "execution_count": null,
   "id": "1159f7b7",
   "metadata": {},
   "outputs": [],
   "source": []
  },
  {
   "cell_type": "code",
   "execution_count": null,
   "id": "4286c5ee",
   "metadata": {},
   "outputs": [],
   "source": []
  },
  {
   "cell_type": "code",
   "execution_count": null,
   "id": "b2f1b2be",
   "metadata": {},
   "outputs": [],
   "source": []
  },
  {
   "cell_type": "code",
   "execution_count": null,
   "id": "7d60422a",
   "metadata": {},
   "outputs": [],
   "source": []
  },
  {
   "cell_type": "code",
   "execution_count": null,
   "id": "23b090e7",
   "metadata": {},
   "outputs": [],
   "source": []
  },
  {
   "cell_type": "code",
   "execution_count": null,
   "id": "3e5d6e1d",
   "metadata": {},
   "outputs": [],
   "source": []
  },
  {
   "cell_type": "code",
   "execution_count": null,
   "id": "b1ae6a8a",
   "metadata": {},
   "outputs": [],
   "source": []
  },
  {
   "cell_type": "code",
   "execution_count": null,
   "id": "b98dc5f8",
   "metadata": {},
   "outputs": [],
   "source": []
  },
  {
   "cell_type": "code",
   "execution_count": null,
   "id": "3e623f8e",
   "metadata": {},
   "outputs": [],
   "source": []
  },
  {
   "cell_type": "code",
   "execution_count": null,
   "id": "b43a7c65",
   "metadata": {},
   "outputs": [],
   "source": []
  },
  {
   "cell_type": "code",
   "execution_count": null,
   "id": "d59644e2",
   "metadata": {},
   "outputs": [],
   "source": []
  },
  {
   "cell_type": "code",
   "execution_count": null,
   "id": "bec84452",
   "metadata": {},
   "outputs": [],
   "source": []
  },
  {
   "cell_type": "code",
   "execution_count": null,
   "id": "d37533bd",
   "metadata": {},
   "outputs": [],
   "source": []
  },
  {
   "cell_type": "code",
   "execution_count": null,
   "id": "384dffb6",
   "metadata": {},
   "outputs": [],
   "source": []
  },
  {
   "cell_type": "code",
   "execution_count": null,
   "id": "a4c25bd1",
   "metadata": {},
   "outputs": [],
   "source": []
  },
  {
   "cell_type": "code",
   "execution_count": null,
   "id": "f95b9f70",
   "metadata": {},
   "outputs": [],
   "source": []
  },
  {
   "cell_type": "code",
   "execution_count": null,
   "id": "ac75aa66",
   "metadata": {},
   "outputs": [],
   "source": []
  },
  {
   "cell_type": "code",
   "execution_count": null,
   "id": "1fb20141",
   "metadata": {},
   "outputs": [],
   "source": []
  },
  {
   "cell_type": "code",
   "execution_count": null,
   "id": "780ad6a4",
   "metadata": {},
   "outputs": [],
   "source": []
  },
  {
   "cell_type": "code",
   "execution_count": null,
   "id": "10caafbe",
   "metadata": {},
   "outputs": [],
   "source": []
  },
  {
   "cell_type": "code",
   "execution_count": null,
   "id": "1db7d283",
   "metadata": {},
   "outputs": [],
   "source": []
  },
  {
   "cell_type": "code",
   "execution_count": null,
   "id": "12e3203d",
   "metadata": {},
   "outputs": [],
   "source": []
  },
  {
   "cell_type": "code",
   "execution_count": null,
   "id": "a427b780",
   "metadata": {},
   "outputs": [],
   "source": []
  },
  {
   "cell_type": "code",
   "execution_count": null,
   "id": "07369608",
   "metadata": {},
   "outputs": [],
   "source": []
  },
  {
   "cell_type": "code",
   "execution_count": null,
   "id": "19f2f22d",
   "metadata": {},
   "outputs": [],
   "source": []
  },
  {
   "cell_type": "code",
   "execution_count": null,
   "id": "6d3d23db",
   "metadata": {},
   "outputs": [],
   "source": []
  },
  {
   "cell_type": "code",
   "execution_count": null,
   "id": "3638e2b8",
   "metadata": {},
   "outputs": [],
   "source": []
  },
  {
   "cell_type": "code",
   "execution_count": null,
   "id": "fd5db455",
   "metadata": {},
   "outputs": [],
   "source": []
  },
  {
   "cell_type": "code",
   "execution_count": null,
   "id": "ca0a605d",
   "metadata": {},
   "outputs": [],
   "source": []
  },
  {
   "cell_type": "code",
   "execution_count": null,
   "id": "c70de905",
   "metadata": {},
   "outputs": [],
   "source": []
  },
  {
   "cell_type": "code",
   "execution_count": null,
   "id": "fa2f0e7e",
   "metadata": {},
   "outputs": [],
   "source": []
  },
  {
   "cell_type": "code",
   "execution_count": null,
   "id": "c53bbf59",
   "metadata": {},
   "outputs": [],
   "source": []
  },
  {
   "cell_type": "code",
   "execution_count": null,
   "id": "aa163aec",
   "metadata": {},
   "outputs": [],
   "source": []
  },
  {
   "cell_type": "code",
   "execution_count": null,
   "id": "799685db",
   "metadata": {},
   "outputs": [],
   "source": []
  },
  {
   "cell_type": "code",
   "execution_count": null,
   "id": "00636326",
   "metadata": {},
   "outputs": [],
   "source": []
  },
  {
   "cell_type": "code",
   "execution_count": null,
   "id": "e6d52d28",
   "metadata": {},
   "outputs": [],
   "source": []
  },
  {
   "cell_type": "code",
   "execution_count": null,
   "id": "2861d2f7",
   "metadata": {},
   "outputs": [],
   "source": []
  },
  {
   "cell_type": "code",
   "execution_count": null,
   "id": "519f7e82",
   "metadata": {},
   "outputs": [],
   "source": []
  },
  {
   "cell_type": "code",
   "execution_count": null,
   "id": "54dbb878",
   "metadata": {},
   "outputs": [],
   "source": []
  },
  {
   "cell_type": "code",
   "execution_count": null,
   "id": "a014cd4b",
   "metadata": {},
   "outputs": [],
   "source": []
  },
  {
   "cell_type": "code",
   "execution_count": null,
   "id": "669aa54f",
   "metadata": {},
   "outputs": [],
   "source": []
  },
  {
   "cell_type": "code",
   "execution_count": null,
   "id": "d64f641b",
   "metadata": {},
   "outputs": [],
   "source": []
  },
  {
   "cell_type": "code",
   "execution_count": null,
   "id": "57ea5920",
   "metadata": {},
   "outputs": [],
   "source": []
  },
  {
   "cell_type": "code",
   "execution_count": null,
   "id": "a51d5612",
   "metadata": {},
   "outputs": [],
   "source": []
  },
  {
   "cell_type": "code",
   "execution_count": null,
   "id": "b2f545b5",
   "metadata": {},
   "outputs": [],
   "source": []
  },
  {
   "cell_type": "code",
   "execution_count": null,
   "id": "e33e8247",
   "metadata": {},
   "outputs": [],
   "source": []
  },
  {
   "cell_type": "code",
   "execution_count": null,
   "id": "1fed16a6",
   "metadata": {},
   "outputs": [],
   "source": []
  },
  {
   "cell_type": "code",
   "execution_count": null,
   "id": "77822855",
   "metadata": {},
   "outputs": [],
   "source": []
  }
 ],
 "metadata": {
  "kernelspec": {
   "display_name": "Python 3 (ipykernel)",
   "language": "python",
   "name": "python3"
  },
  "language_info": {
   "codemirror_mode": {
    "name": "ipython",
    "version": 3
   },
   "file_extension": ".py",
   "mimetype": "text/x-python",
   "name": "python",
   "nbconvert_exporter": "python",
   "pygments_lexer": "ipython3",
   "version": "3.10.9"
  },
  "varInspector": {
   "cols": {
    "lenName": 16,
    "lenType": 16,
    "lenVar": 40
   },
   "kernels_config": {
    "python": {
     "delete_cmd_postfix": "",
     "delete_cmd_prefix": "del ",
     "library": "var_list.py",
     "varRefreshCmd": "print(var_dic_list())"
    },
    "r": {
     "delete_cmd_postfix": ") ",
     "delete_cmd_prefix": "rm(",
     "library": "var_list.r",
     "varRefreshCmd": "cat(var_dic_list()) "
    }
   },
   "types_to_exclude": [
    "module",
    "function",
    "builtin_function_or_method",
    "instance",
    "_Feature"
   ],
   "window_display": false
  }
 },
 "nbformat": 4,
 "nbformat_minor": 5
}
